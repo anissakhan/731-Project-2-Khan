{
 "cells": [
  {
   "cell_type": "markdown",
   "metadata": {},
   "source": [
    "# To Be or Not To Be\n",
    "\n",
    "## Introduction\n",
    "\n",
    "The dataset used in this project contains all character/player lines from all of Shakespeare's plays. The purpose of this project is to use feature engineering to generate new information that can be used in a classification model to determine which player is speaking. In other words, provided a player line, ideally the model will be able to predict which player is speaking."
   ]
  },
  {
   "cell_type": "code",
   "execution_count": 218,
   "metadata": {},
   "outputs": [],
   "source": [
    "import numpy as np"
   ]
  },
  {
   "cell_type": "code",
   "execution_count": 219,
   "metadata": {},
   "outputs": [],
   "source": [
    "import pandas as pd"
   ]
  },
  {
   "cell_type": "code",
   "execution_count": 220,
   "metadata": {},
   "outputs": [],
   "source": [
    "import matplotlib.pyplot as plt"
   ]
  },
  {
   "cell_type": "code",
   "execution_count": 221,
   "metadata": {},
   "outputs": [],
   "source": [
    "from sklearn.tree import DecisionTreeClassifier # Import Decision Tree Classifier\n",
    "from sklearn.model_selection import train_test_split # Import train_test_split function\n",
    "from sklearn import metrics #Import scikit-learn metrics module for accuracy calculation\n",
    "from sklearn.ensemble import RandomForestClassifier #Import Random Forest Model"
   ]
  },
  {
   "cell_type": "code",
   "execution_count": 222,
   "metadata": {},
   "outputs": [],
   "source": [
    "dfShake=pd.read_csv(\"file://localhost/Users/anissakhan/Dropbox/Nissa_stuff/KU_CS/EECS731/731-Project-2-Khan/Data/RawData/Shakespeare_data.csv\")"
   ]
  },
  {
   "cell_type": "markdown",
   "metadata": {},
   "source": [
    "By observing the data visually, it is apparent there are missing values throughout the data. This will require cleaning, which will be completed next. In order to establish additional value, I would like to aggregate the PlayerLines into single rows so that each player's consecutive lines will be stored as a single quote. Once I have completed this aggregation, I can come up with useful variables based on that quote that will be used as features in the classification model. A few ideas that come to mind are: number of words per player line, average sentence length (per player line), number of sentences per player line."
   ]
  },
  {
   "cell_type": "code",
   "execution_count": 223,
   "metadata": {},
   "outputs": [
    {
     "data": {
      "text/html": [
       "<div>\n",
       "<style scoped>\n",
       "    .dataframe tbody tr th:only-of-type {\n",
       "        vertical-align: middle;\n",
       "    }\n",
       "\n",
       "    .dataframe tbody tr th {\n",
       "        vertical-align: top;\n",
       "    }\n",
       "\n",
       "    .dataframe thead th {\n",
       "        text-align: right;\n",
       "    }\n",
       "</style>\n",
       "<table border=\"1\" class=\"dataframe\">\n",
       "  <thead>\n",
       "    <tr style=\"text-align: right;\">\n",
       "      <th></th>\n",
       "      <th>Dataline</th>\n",
       "      <th>Play</th>\n",
       "      <th>PlayerLinenumber</th>\n",
       "      <th>ActSceneLine</th>\n",
       "      <th>Player</th>\n",
       "      <th>PlayerLine</th>\n",
       "    </tr>\n",
       "  </thead>\n",
       "  <tbody>\n",
       "    <tr>\n",
       "      <th>0</th>\n",
       "      <td>1</td>\n",
       "      <td>Henry IV</td>\n",
       "      <td>NaN</td>\n",
       "      <td>NaN</td>\n",
       "      <td>NaN</td>\n",
       "      <td>ACT I</td>\n",
       "    </tr>\n",
       "    <tr>\n",
       "      <th>1</th>\n",
       "      <td>2</td>\n",
       "      <td>Henry IV</td>\n",
       "      <td>NaN</td>\n",
       "      <td>NaN</td>\n",
       "      <td>NaN</td>\n",
       "      <td>SCENE I. London. The palace.</td>\n",
       "    </tr>\n",
       "    <tr>\n",
       "      <th>2</th>\n",
       "      <td>3</td>\n",
       "      <td>Henry IV</td>\n",
       "      <td>NaN</td>\n",
       "      <td>NaN</td>\n",
       "      <td>NaN</td>\n",
       "      <td>Enter KING HENRY, LORD JOHN OF LANCASTER, the ...</td>\n",
       "    </tr>\n",
       "    <tr>\n",
       "      <th>3</th>\n",
       "      <td>4</td>\n",
       "      <td>Henry IV</td>\n",
       "      <td>1.0</td>\n",
       "      <td>1.1.1</td>\n",
       "      <td>KING HENRY IV</td>\n",
       "      <td>So shaken as we are, so wan with care,</td>\n",
       "    </tr>\n",
       "    <tr>\n",
       "      <th>4</th>\n",
       "      <td>5</td>\n",
       "      <td>Henry IV</td>\n",
       "      <td>1.0</td>\n",
       "      <td>1.1.2</td>\n",
       "      <td>KING HENRY IV</td>\n",
       "      <td>Find we a time for frighted peace to pant,</td>\n",
       "    </tr>\n",
       "    <tr>\n",
       "      <th>...</th>\n",
       "      <td>...</td>\n",
       "      <td>...</td>\n",
       "      <td>...</td>\n",
       "      <td>...</td>\n",
       "      <td>...</td>\n",
       "      <td>...</td>\n",
       "    </tr>\n",
       "    <tr>\n",
       "      <th>111391</th>\n",
       "      <td>111392</td>\n",
       "      <td>A Winters Tale</td>\n",
       "      <td>38.0</td>\n",
       "      <td>5.3.180</td>\n",
       "      <td>LEONTES</td>\n",
       "      <td>Lead us from hence, where we may leisurely</td>\n",
       "    </tr>\n",
       "    <tr>\n",
       "      <th>111392</th>\n",
       "      <td>111393</td>\n",
       "      <td>A Winters Tale</td>\n",
       "      <td>38.0</td>\n",
       "      <td>5.3.181</td>\n",
       "      <td>LEONTES</td>\n",
       "      <td>Each one demand an answer to his part</td>\n",
       "    </tr>\n",
       "    <tr>\n",
       "      <th>111393</th>\n",
       "      <td>111394</td>\n",
       "      <td>A Winters Tale</td>\n",
       "      <td>38.0</td>\n",
       "      <td>5.3.182</td>\n",
       "      <td>LEONTES</td>\n",
       "      <td>Perform'd in this wide gap of time since first</td>\n",
       "    </tr>\n",
       "    <tr>\n",
       "      <th>111394</th>\n",
       "      <td>111395</td>\n",
       "      <td>A Winters Tale</td>\n",
       "      <td>38.0</td>\n",
       "      <td>5.3.183</td>\n",
       "      <td>LEONTES</td>\n",
       "      <td>We were dissever'd: hastily lead away.</td>\n",
       "    </tr>\n",
       "    <tr>\n",
       "      <th>111395</th>\n",
       "      <td>111396</td>\n",
       "      <td>A Winters Tale</td>\n",
       "      <td>38.0</td>\n",
       "      <td>NaN</td>\n",
       "      <td>LEONTES</td>\n",
       "      <td>Exeunt</td>\n",
       "    </tr>\n",
       "  </tbody>\n",
       "</table>\n",
       "<p>111396 rows × 6 columns</p>\n",
       "</div>"
      ],
      "text/plain": [
       "        Dataline            Play  PlayerLinenumber ActSceneLine  \\\n",
       "0              1        Henry IV               NaN          NaN   \n",
       "1              2        Henry IV               NaN          NaN   \n",
       "2              3        Henry IV               NaN          NaN   \n",
       "3              4        Henry IV               1.0        1.1.1   \n",
       "4              5        Henry IV               1.0        1.1.2   \n",
       "...          ...             ...               ...          ...   \n",
       "111391    111392  A Winters Tale              38.0      5.3.180   \n",
       "111392    111393  A Winters Tale              38.0      5.3.181   \n",
       "111393    111394  A Winters Tale              38.0      5.3.182   \n",
       "111394    111395  A Winters Tale              38.0      5.3.183   \n",
       "111395    111396  A Winters Tale              38.0          NaN   \n",
       "\n",
       "               Player                                         PlayerLine  \n",
       "0                 NaN                                              ACT I  \n",
       "1                 NaN                       SCENE I. London. The palace.  \n",
       "2                 NaN  Enter KING HENRY, LORD JOHN OF LANCASTER, the ...  \n",
       "3       KING HENRY IV             So shaken as we are, so wan with care,  \n",
       "4       KING HENRY IV         Find we a time for frighted peace to pant,  \n",
       "...               ...                                                ...  \n",
       "111391        LEONTES         Lead us from hence, where we may leisurely  \n",
       "111392        LEONTES              Each one demand an answer to his part  \n",
       "111393        LEONTES     Perform'd in this wide gap of time since first  \n",
       "111394        LEONTES             We were dissever'd: hastily lead away.  \n",
       "111395        LEONTES                                             Exeunt  \n",
       "\n",
       "[111396 rows x 6 columns]"
      ]
     },
     "execution_count": 223,
     "metadata": {},
     "output_type": "execute_result"
    }
   ],
   "source": [
    "dfShake"
   ]
  },
  {
   "cell_type": "markdown",
   "metadata": {},
   "source": [
    "## Data Cleaning"
   ]
  },
  {
   "cell_type": "markdown",
   "metadata": {},
   "source": [
    "If Player doesn't exist (Player=NaN), I delete those observations, because the associated PlayerLine is not spoken by anyone (example: PlayerLine=ACT I).\n",
    "\n",
    "If ActSceneLine doesn't exist (ActSceneLine=NaN), I delete those observations, because the associated PlayerLine is a stage direction and therefore is not spoken by anyone (example: ActSceneLine=SCENE III. London. The palace.).\n",
    "\n",
    "In the dropna command, inplace=True because we want the dataframe itself to be changed (as opposed to creating a copy of the dataframe)"
   ]
  },
  {
   "cell_type": "code",
   "execution_count": 224,
   "metadata": {},
   "outputs": [],
   "source": [
    "dfShake.dropna(subset = [\"Player\"], inplace=True)"
   ]
  },
  {
   "cell_type": "code",
   "execution_count": 225,
   "metadata": {},
   "outputs": [],
   "source": [
    "dfShake.dropna(subset = [\"ActSceneLine\"], inplace=True)"
   ]
  },
  {
   "cell_type": "markdown",
   "metadata": {},
   "source": [
    "I now want to verify there are no more missing values in the dataset. Since the number of entries matches the non-null count for all variables, we know there are no more missing values."
   ]
  },
  {
   "cell_type": "code",
   "execution_count": 226,
   "metadata": {},
   "outputs": [
    {
     "name": "stdout",
     "output_type": "stream",
     "text": [
      "<class 'pandas.core.frame.DataFrame'>\n",
      "Int64Index: 105152 entries, 3 to 111394\n",
      "Data columns (total 6 columns):\n",
      " #   Column            Non-Null Count   Dtype  \n",
      "---  ------            --------------   -----  \n",
      " 0   Dataline          105152 non-null  int64  \n",
      " 1   Play              105152 non-null  object \n",
      " 2   PlayerLinenumber  105152 non-null  float64\n",
      " 3   ActSceneLine      105152 non-null  object \n",
      " 4   Player            105152 non-null  object \n",
      " 5   PlayerLine        105152 non-null  object \n",
      "dtypes: float64(1), int64(1), object(4)\n",
      "memory usage: 5.6+ MB\n"
     ]
    }
   ],
   "source": [
    "dfShake.info()"
   ]
  },
  {
   "cell_type": "code",
   "execution_count": 227,
   "metadata": {},
   "outputs": [
    {
     "data": {
      "text/html": [
       "<div>\n",
       "<style scoped>\n",
       "    .dataframe tbody tr th:only-of-type {\n",
       "        vertical-align: middle;\n",
       "    }\n",
       "\n",
       "    .dataframe tbody tr th {\n",
       "        vertical-align: top;\n",
       "    }\n",
       "\n",
       "    .dataframe thead th {\n",
       "        text-align: right;\n",
       "    }\n",
       "</style>\n",
       "<table border=\"1\" class=\"dataframe\">\n",
       "  <thead>\n",
       "    <tr style=\"text-align: right;\">\n",
       "      <th></th>\n",
       "      <th>Dataline</th>\n",
       "      <th>Play</th>\n",
       "      <th>PlayerLinenumber</th>\n",
       "      <th>ActSceneLine</th>\n",
       "      <th>Player</th>\n",
       "      <th>PlayerLine</th>\n",
       "    </tr>\n",
       "  </thead>\n",
       "  <tbody>\n",
       "    <tr>\n",
       "      <th>3</th>\n",
       "      <td>4</td>\n",
       "      <td>Henry IV</td>\n",
       "      <td>1.0</td>\n",
       "      <td>1.1.1</td>\n",
       "      <td>KING HENRY IV</td>\n",
       "      <td>So shaken as we are, so wan with care,</td>\n",
       "    </tr>\n",
       "    <tr>\n",
       "      <th>4</th>\n",
       "      <td>5</td>\n",
       "      <td>Henry IV</td>\n",
       "      <td>1.0</td>\n",
       "      <td>1.1.2</td>\n",
       "      <td>KING HENRY IV</td>\n",
       "      <td>Find we a time for frighted peace to pant,</td>\n",
       "    </tr>\n",
       "    <tr>\n",
       "      <th>5</th>\n",
       "      <td>6</td>\n",
       "      <td>Henry IV</td>\n",
       "      <td>1.0</td>\n",
       "      <td>1.1.3</td>\n",
       "      <td>KING HENRY IV</td>\n",
       "      <td>And breathe short-winded accents of new broils</td>\n",
       "    </tr>\n",
       "    <tr>\n",
       "      <th>6</th>\n",
       "      <td>7</td>\n",
       "      <td>Henry IV</td>\n",
       "      <td>1.0</td>\n",
       "      <td>1.1.4</td>\n",
       "      <td>KING HENRY IV</td>\n",
       "      <td>To be commenced in strands afar remote.</td>\n",
       "    </tr>\n",
       "    <tr>\n",
       "      <th>7</th>\n",
       "      <td>8</td>\n",
       "      <td>Henry IV</td>\n",
       "      <td>1.0</td>\n",
       "      <td>1.1.5</td>\n",
       "      <td>KING HENRY IV</td>\n",
       "      <td>No more the thirsty entrance of this soil</td>\n",
       "    </tr>\n",
       "  </tbody>\n",
       "</table>\n",
       "</div>"
      ],
      "text/plain": [
       "   Dataline      Play  PlayerLinenumber ActSceneLine         Player  \\\n",
       "3         4  Henry IV               1.0        1.1.1  KING HENRY IV   \n",
       "4         5  Henry IV               1.0        1.1.2  KING HENRY IV   \n",
       "5         6  Henry IV               1.0        1.1.3  KING HENRY IV   \n",
       "6         7  Henry IV               1.0        1.1.4  KING HENRY IV   \n",
       "7         8  Henry IV               1.0        1.1.5  KING HENRY IV   \n",
       "\n",
       "                                       PlayerLine  \n",
       "3          So shaken as we are, so wan with care,  \n",
       "4      Find we a time for frighted peace to pant,  \n",
       "5  And breathe short-winded accents of new broils  \n",
       "6         To be commenced in strands afar remote.  \n",
       "7       No more the thirsty entrance of this soil  "
      ]
     },
     "execution_count": 227,
     "metadata": {},
     "output_type": "execute_result"
    }
   ],
   "source": [
    "dfShake.head()"
   ]
  },
  {
   "cell_type": "markdown",
   "metadata": {},
   "source": [
    "For ease of data navigation, I will reset the data indices so that the rows begin at 0 and continue consecutively. This will also be done later as more rows are removed from the dataset."
   ]
  },
  {
   "cell_type": "code",
   "execution_count": 228,
   "metadata": {},
   "outputs": [],
   "source": [
    "dfShake=dfShake.reset_index()"
   ]
  },
  {
   "cell_type": "code",
   "execution_count": 229,
   "metadata": {},
   "outputs": [
    {
     "data": {
      "text/html": [
       "<div>\n",
       "<style scoped>\n",
       "    .dataframe tbody tr th:only-of-type {\n",
       "        vertical-align: middle;\n",
       "    }\n",
       "\n",
       "    .dataframe tbody tr th {\n",
       "        vertical-align: top;\n",
       "    }\n",
       "\n",
       "    .dataframe thead th {\n",
       "        text-align: right;\n",
       "    }\n",
       "</style>\n",
       "<table border=\"1\" class=\"dataframe\">\n",
       "  <thead>\n",
       "    <tr style=\"text-align: right;\">\n",
       "      <th></th>\n",
       "      <th>index</th>\n",
       "      <th>Dataline</th>\n",
       "      <th>Play</th>\n",
       "      <th>PlayerLinenumber</th>\n",
       "      <th>ActSceneLine</th>\n",
       "      <th>Player</th>\n",
       "      <th>PlayerLine</th>\n",
       "    </tr>\n",
       "  </thead>\n",
       "  <tbody>\n",
       "    <tr>\n",
       "      <th>0</th>\n",
       "      <td>3</td>\n",
       "      <td>4</td>\n",
       "      <td>Henry IV</td>\n",
       "      <td>1.0</td>\n",
       "      <td>1.1.1</td>\n",
       "      <td>KING HENRY IV</td>\n",
       "      <td>So shaken as we are, so wan with care,</td>\n",
       "    </tr>\n",
       "    <tr>\n",
       "      <th>1</th>\n",
       "      <td>4</td>\n",
       "      <td>5</td>\n",
       "      <td>Henry IV</td>\n",
       "      <td>1.0</td>\n",
       "      <td>1.1.2</td>\n",
       "      <td>KING HENRY IV</td>\n",
       "      <td>Find we a time for frighted peace to pant,</td>\n",
       "    </tr>\n",
       "    <tr>\n",
       "      <th>2</th>\n",
       "      <td>5</td>\n",
       "      <td>6</td>\n",
       "      <td>Henry IV</td>\n",
       "      <td>1.0</td>\n",
       "      <td>1.1.3</td>\n",
       "      <td>KING HENRY IV</td>\n",
       "      <td>And breathe short-winded accents of new broils</td>\n",
       "    </tr>\n",
       "    <tr>\n",
       "      <th>3</th>\n",
       "      <td>6</td>\n",
       "      <td>7</td>\n",
       "      <td>Henry IV</td>\n",
       "      <td>1.0</td>\n",
       "      <td>1.1.4</td>\n",
       "      <td>KING HENRY IV</td>\n",
       "      <td>To be commenced in strands afar remote.</td>\n",
       "    </tr>\n",
       "    <tr>\n",
       "      <th>4</th>\n",
       "      <td>7</td>\n",
       "      <td>8</td>\n",
       "      <td>Henry IV</td>\n",
       "      <td>1.0</td>\n",
       "      <td>1.1.5</td>\n",
       "      <td>KING HENRY IV</td>\n",
       "      <td>No more the thirsty entrance of this soil</td>\n",
       "    </tr>\n",
       "    <tr>\n",
       "      <th>...</th>\n",
       "      <td>...</td>\n",
       "      <td>...</td>\n",
       "      <td>...</td>\n",
       "      <td>...</td>\n",
       "      <td>...</td>\n",
       "      <td>...</td>\n",
       "      <td>...</td>\n",
       "    </tr>\n",
       "    <tr>\n",
       "      <th>105147</th>\n",
       "      <td>111390</td>\n",
       "      <td>111391</td>\n",
       "      <td>A Winters Tale</td>\n",
       "      <td>38.0</td>\n",
       "      <td>5.3.179</td>\n",
       "      <td>LEONTES</td>\n",
       "      <td>Is troth-plight to your daughter. Good Paulina,</td>\n",
       "    </tr>\n",
       "    <tr>\n",
       "      <th>105148</th>\n",
       "      <td>111391</td>\n",
       "      <td>111392</td>\n",
       "      <td>A Winters Tale</td>\n",
       "      <td>38.0</td>\n",
       "      <td>5.3.180</td>\n",
       "      <td>LEONTES</td>\n",
       "      <td>Lead us from hence, where we may leisurely</td>\n",
       "    </tr>\n",
       "    <tr>\n",
       "      <th>105149</th>\n",
       "      <td>111392</td>\n",
       "      <td>111393</td>\n",
       "      <td>A Winters Tale</td>\n",
       "      <td>38.0</td>\n",
       "      <td>5.3.181</td>\n",
       "      <td>LEONTES</td>\n",
       "      <td>Each one demand an answer to his part</td>\n",
       "    </tr>\n",
       "    <tr>\n",
       "      <th>105150</th>\n",
       "      <td>111393</td>\n",
       "      <td>111394</td>\n",
       "      <td>A Winters Tale</td>\n",
       "      <td>38.0</td>\n",
       "      <td>5.3.182</td>\n",
       "      <td>LEONTES</td>\n",
       "      <td>Perform'd in this wide gap of time since first</td>\n",
       "    </tr>\n",
       "    <tr>\n",
       "      <th>105151</th>\n",
       "      <td>111394</td>\n",
       "      <td>111395</td>\n",
       "      <td>A Winters Tale</td>\n",
       "      <td>38.0</td>\n",
       "      <td>5.3.183</td>\n",
       "      <td>LEONTES</td>\n",
       "      <td>We were dissever'd: hastily lead away.</td>\n",
       "    </tr>\n",
       "  </tbody>\n",
       "</table>\n",
       "<p>105152 rows × 7 columns</p>\n",
       "</div>"
      ],
      "text/plain": [
       "         index  Dataline            Play  PlayerLinenumber ActSceneLine  \\\n",
       "0            3         4        Henry IV               1.0        1.1.1   \n",
       "1            4         5        Henry IV               1.0        1.1.2   \n",
       "2            5         6        Henry IV               1.0        1.1.3   \n",
       "3            6         7        Henry IV               1.0        1.1.4   \n",
       "4            7         8        Henry IV               1.0        1.1.5   \n",
       "...        ...       ...             ...               ...          ...   \n",
       "105147  111390    111391  A Winters Tale              38.0      5.3.179   \n",
       "105148  111391    111392  A Winters Tale              38.0      5.3.180   \n",
       "105149  111392    111393  A Winters Tale              38.0      5.3.181   \n",
       "105150  111393    111394  A Winters Tale              38.0      5.3.182   \n",
       "105151  111394    111395  A Winters Tale              38.0      5.3.183   \n",
       "\n",
       "               Player                                       PlayerLine  \n",
       "0       KING HENRY IV           So shaken as we are, so wan with care,  \n",
       "1       KING HENRY IV       Find we a time for frighted peace to pant,  \n",
       "2       KING HENRY IV   And breathe short-winded accents of new broils  \n",
       "3       KING HENRY IV          To be commenced in strands afar remote.  \n",
       "4       KING HENRY IV        No more the thirsty entrance of this soil  \n",
       "...               ...                                              ...  \n",
       "105147        LEONTES  Is troth-plight to your daughter. Good Paulina,  \n",
       "105148        LEONTES       Lead us from hence, where we may leisurely  \n",
       "105149        LEONTES            Each one demand an answer to his part  \n",
       "105150        LEONTES   Perform'd in this wide gap of time since first  \n",
       "105151        LEONTES           We were dissever'd: hastily lead away.  \n",
       "\n",
       "[105152 rows x 7 columns]"
      ]
     },
     "execution_count": 229,
     "metadata": {},
     "output_type": "execute_result"
    }
   ],
   "source": [
    "dfShake"
   ]
  },
  {
   "cell_type": "markdown",
   "metadata": {},
   "source": [
    "I will now convert Player and PlayerLine from objects to strings so that I can easily compare the strings for cleaning purposes."
   ]
  },
  {
   "cell_type": "code",
   "execution_count": 230,
   "metadata": {},
   "outputs": [
    {
     "data": {
      "text/plain": [
       "index                 int64\n",
       "Dataline              int64\n",
       "Play                 object\n",
       "PlayerLinenumber    float64\n",
       "ActSceneLine         object\n",
       "Player               object\n",
       "PlayerLine           object\n",
       "dtype: object"
      ]
     },
     "execution_count": 230,
     "metadata": {},
     "output_type": "execute_result"
    }
   ],
   "source": [
    "dfShake.dtypes"
   ]
  },
  {
   "cell_type": "code",
   "execution_count": 231,
   "metadata": {},
   "outputs": [],
   "source": [
    "dfShake['Player'] = dfShake['Player'].astype(\"string\")\n",
    "dfShake['PlayerLine'] = dfShake['PlayerLine'].astype(\"string\")"
   ]
  },
  {
   "cell_type": "code",
   "execution_count": 232,
   "metadata": {},
   "outputs": [
    {
     "data": {
      "text/plain": [
       "index                 int64\n",
       "Dataline              int64\n",
       "Play                 object\n",
       "PlayerLinenumber    float64\n",
       "ActSceneLine         object\n",
       "Player               string\n",
       "PlayerLine           string\n",
       "dtype: object"
      ]
     },
     "execution_count": 232,
     "metadata": {},
     "output_type": "execute_result"
    }
   ],
   "source": [
    "dfShake.dtypes"
   ]
  },
  {
   "cell_type": "markdown",
   "metadata": {},
   "source": [
    "There is still a problem with the data: The player name \"ANTIPHOLUS OF EPHESUS\" has been inadvertently split. \"ANTIPHOLUS\" is split off from the rest of its name, and placed incorrectly in an extra PlayerLine.\n",
    "\n",
    "I run the string strip command on PlayerLine to verify there are no extra spaces stored in the string, which would make comparison of strings difficult."
   ]
  },
  {
   "cell_type": "code",
   "execution_count": 233,
   "metadata": {},
   "outputs": [],
   "source": [
    "dfShake.PlayerLine = dfShake.PlayerLine.str.strip()"
   ]
  },
  {
   "cell_type": "markdown",
   "metadata": {},
   "source": [
    "I now check the data for how many times this occurs: in the below loop I print a few of the occurrences for demonstration purposes (but I don't print all of them since there are 175 of them). Then in the following for loop, I drop the rows of data where this occurs because they contain no additional information (only ANTIPHOLUS is stored in that line). I then reset the indices so the for loops will run properly."
   ]
  },
  {
   "cell_type": "code",
   "execution_count": 234,
   "metadata": {},
   "outputs": [
    {
     "name": "stdout",
     "output_type": "stream",
     "text": [
      "ANTIPHOLUS 22600\n",
      "ANTIPHOLUS 22612\n",
      "Times this error occurs = 175\n"
     ]
    }
   ],
   "source": [
    "count=0\n",
    "for i in range(0,(len(dfShake['PlayerLine']))):\n",
    "    if(dfShake['PlayerLine'][i] == 'ANTIPHOLUS'):\n",
    "        count=count+1\n",
    "        if count<3:\n",
    "            print(dfShake['PlayerLine'][i], dfShake['Dataline'][i])\n",
    "            \n",
    "print('Times this error occurs =', count) "
   ]
  },
  {
   "cell_type": "code",
   "execution_count": 235,
   "metadata": {},
   "outputs": [],
   "source": [
    "for i in range(0,(len(dfShake['PlayerLine']))):\n",
    "    if(dfShake['PlayerLine'][i] == 'ANTIPHOLUS'):\n",
    "        dfShake.drop([i],inplace=True, axis=0)"
   ]
  },
  {
   "cell_type": "code",
   "execution_count": 236,
   "metadata": {},
   "outputs": [],
   "source": [
    "dfShake=dfShake.reset_index()"
   ]
  },
  {
   "cell_type": "markdown",
   "metadata": {},
   "source": [
    "I now add the rest of ANTIPHOLUS' name to the appropriate rows in the data (that previously said \"OF EPHESUS\")"
   ]
  },
  {
   "cell_type": "code",
   "execution_count": 237,
   "metadata": {},
   "outputs": [],
   "source": [
    "for i in range(0,len(dfShake['Player'])):\n",
    "    if(dfShake['Player'][i] == 'OF EPHESUS'):\n",
    "        dfShake['Player'][i]='ANTIPHOLUS OF EPHESUS'"
   ]
  },
  {
   "cell_type": "markdown",
   "metadata": {},
   "source": [
    "There is also a problem with the player \"DROMIO OF SYRACUSE\". His whole name isn't stored in Player consistently. On occasion, DROMIO is left off but is not stored anywhere else. I print the number of times this happens and update his name where appropriate."
   ]
  },
  {
   "cell_type": "code",
   "execution_count": 238,
   "metadata": {},
   "outputs": [
    {
     "name": "stdout",
     "output_type": "stream",
     "text": [
      "OF SYRACUSE 22601\n",
      "OF SYRACUSE 22602\n",
      "Times this error occurs = 269\n"
     ]
    }
   ],
   "source": [
    "count=0\n",
    "for i in range(0,(len(dfShake['Player']))):\n",
    "    if(dfShake['Player'][i] == 'OF SYRACUSE'):\n",
    "        count=count+1\n",
    "        if count<3:\n",
    "            print(dfShake['Player'][i], dfShake['Dataline'][i])\n",
    "\n",
    "print('Times this error occurs =', count) "
   ]
  },
  {
   "cell_type": "code",
   "execution_count": 239,
   "metadata": {},
   "outputs": [],
   "source": [
    "for i in range(0,len(dfShake['Player'])):\n",
    "    if(dfShake['Player'][i] == 'OF SYRACUSE'):\n",
    "        dfShake['Player'][i]='DROMIO OF SYRACUSE'"
   ]
  },
  {
   "cell_type": "code",
   "execution_count": 240,
   "metadata": {},
   "outputs": [],
   "source": [
    "#dfShake.to_csv('test.csv')"
   ]
  },
  {
   "cell_type": "markdown",
   "metadata": {},
   "source": [
    "Now as discussed earlier, I am going to combine player lines so that the entire quote is contained in a single observation. Each player's consecutive lines will be aggregated and stored as a single quote. Note: if a player is having a conversation with another player, each line would be stored as its own quote. Only **consecutive** player lines are combined."
   ]
  },
  {
   "cell_type": "code",
   "execution_count": 241,
   "metadata": {},
   "outputs": [],
   "source": [
    "dfShake=dfShake.groupby(['Play','PlayerLinenumber', 'Player'], as_index = False).agg({'PlayerLine': ' '.join})"
   ]
  },
  {
   "cell_type": "code",
   "execution_count": 242,
   "metadata": {},
   "outputs": [
    {
     "data": {
      "text/html": [
       "<div>\n",
       "<style scoped>\n",
       "    .dataframe tbody tr th:only-of-type {\n",
       "        vertical-align: middle;\n",
       "    }\n",
       "\n",
       "    .dataframe tbody tr th {\n",
       "        vertical-align: top;\n",
       "    }\n",
       "\n",
       "    .dataframe thead th {\n",
       "        text-align: right;\n",
       "    }\n",
       "</style>\n",
       "<table border=\"1\" class=\"dataframe\">\n",
       "  <thead>\n",
       "    <tr style=\"text-align: right;\">\n",
       "      <th></th>\n",
       "      <th>Play</th>\n",
       "      <th>PlayerLinenumber</th>\n",
       "      <th>Player</th>\n",
       "      <th>PlayerLine</th>\n",
       "    </tr>\n",
       "  </thead>\n",
       "  <tbody>\n",
       "    <tr>\n",
       "      <th>0</th>\n",
       "      <td>A Comedy of Errors</td>\n",
       "      <td>1.0</td>\n",
       "      <td>ADRIANA</td>\n",
       "      <td>Neither my husband nor the slave return'd, Tha...</td>\n",
       "    </tr>\n",
       "    <tr>\n",
       "      <th>1</th>\n",
       "      <td>A Comedy of Errors</td>\n",
       "      <td>1.0</td>\n",
       "      <td>AEGEON</td>\n",
       "      <td>Proceed, Solinus, to procure my fall And by th...</td>\n",
       "    </tr>\n",
       "    <tr>\n",
       "      <th>2</th>\n",
       "      <td>A Comedy of Errors</td>\n",
       "      <td>1.0</td>\n",
       "      <td>ANGELO</td>\n",
       "      <td>I am sorry, sir, that I have hinder'd you, But...</td>\n",
       "    </tr>\n",
       "    <tr>\n",
       "      <th>3</th>\n",
       "      <td>A Comedy of Errors</td>\n",
       "      <td>1.0</td>\n",
       "      <td>ANTIPHOLUS OF EPHESUS</td>\n",
       "      <td>Good Signior Angelo, you must excuse us all, M...</td>\n",
       "    </tr>\n",
       "    <tr>\n",
       "      <th>4</th>\n",
       "      <td>A Comedy of Errors</td>\n",
       "      <td>1.0</td>\n",
       "      <td>DROMIO OF SYRACUSE</td>\n",
       "      <td>The gold I gave to Dromio is laid up Safe at t...</td>\n",
       "    </tr>\n",
       "    <tr>\n",
       "      <th>...</th>\n",
       "      <td>...</td>\n",
       "      <td>...</td>\n",
       "      <td>...</td>\n",
       "      <td>...</td>\n",
       "    </tr>\n",
       "    <tr>\n",
       "      <th>22212</th>\n",
       "      <td>macbeth</td>\n",
       "      <td>61.0</td>\n",
       "      <td>MALCOLM</td>\n",
       "      <td>Dispute it like a man.</td>\n",
       "    </tr>\n",
       "    <tr>\n",
       "      <th>22213</th>\n",
       "      <td>macbeth</td>\n",
       "      <td>62.0</td>\n",
       "      <td>MACDUFF</td>\n",
       "      <td>I shall do so, But I must also feel it as a ma...</td>\n",
       "    </tr>\n",
       "    <tr>\n",
       "      <th>22214</th>\n",
       "      <td>macbeth</td>\n",
       "      <td>63.0</td>\n",
       "      <td>MALCOLM</td>\n",
       "      <td>Be this the whetstone of your sword: let grief...</td>\n",
       "    </tr>\n",
       "    <tr>\n",
       "      <th>22215</th>\n",
       "      <td>macbeth</td>\n",
       "      <td>64.0</td>\n",
       "      <td>MACDUFF</td>\n",
       "      <td>O, I could play the woman with mine eyes And b...</td>\n",
       "    </tr>\n",
       "    <tr>\n",
       "      <th>22216</th>\n",
       "      <td>macbeth</td>\n",
       "      <td>65.0</td>\n",
       "      <td>MALCOLM</td>\n",
       "      <td>This tune goes manly. Come, go we to the king,...</td>\n",
       "    </tr>\n",
       "  </tbody>\n",
       "</table>\n",
       "<p>22217 rows × 4 columns</p>\n",
       "</div>"
      ],
      "text/plain": [
       "                     Play  PlayerLinenumber                 Player  \\\n",
       "0      A Comedy of Errors               1.0                ADRIANA   \n",
       "1      A Comedy of Errors               1.0                 AEGEON   \n",
       "2      A Comedy of Errors               1.0                 ANGELO   \n",
       "3      A Comedy of Errors               1.0  ANTIPHOLUS OF EPHESUS   \n",
       "4      A Comedy of Errors               1.0     DROMIO OF SYRACUSE   \n",
       "...                   ...               ...                    ...   \n",
       "22212             macbeth              61.0                MALCOLM   \n",
       "22213             macbeth              62.0                MACDUFF   \n",
       "22214             macbeth              63.0                MALCOLM   \n",
       "22215             macbeth              64.0                MACDUFF   \n",
       "22216             macbeth              65.0                MALCOLM   \n",
       "\n",
       "                                              PlayerLine  \n",
       "0      Neither my husband nor the slave return'd, Tha...  \n",
       "1      Proceed, Solinus, to procure my fall And by th...  \n",
       "2      I am sorry, sir, that I have hinder'd you, But...  \n",
       "3      Good Signior Angelo, you must excuse us all, M...  \n",
       "4      The gold I gave to Dromio is laid up Safe at t...  \n",
       "...                                                  ...  \n",
       "22212                             Dispute it like a man.  \n",
       "22213  I shall do so, But I must also feel it as a ma...  \n",
       "22214  Be this the whetstone of your sword: let grief...  \n",
       "22215  O, I could play the woman with mine eyes And b...  \n",
       "22216  This tune goes manly. Come, go we to the king,...  \n",
       "\n",
       "[22217 rows x 4 columns]"
      ]
     },
     "execution_count": 242,
     "metadata": {},
     "output_type": "execute_result"
    }
   ],
   "source": [
    "dfShake"
   ]
  },
  {
   "cell_type": "markdown",
   "metadata": {},
   "source": [
    "## Feature Engineering"
   ]
  },
  {
   "cell_type": "markdown",
   "metadata": {},
   "source": [
    "I can now come up with variables that will be used as features in the classification model.\n",
    "\n",
    "First, I will create a new variable that contains the number of words in each player line/quote. This variable will be called quoteLength. It can be useful if there are certain characters that tend to talk a lot more than others. If one player always speaks in single word lines, that player will be easily predicted based on the number of words they use. Alternatively, if another player always has an average of 200 word quotes, they will also be easily predictable. "
   ]
  },
  {
   "cell_type": "code",
   "execution_count": 243,
   "metadata": {},
   "outputs": [],
   "source": [
    "quoteLength = []\n",
    "for x in range(0,len(dfShake['PlayerLine'])):\n",
    "    quoteLength.append(len(dfShake['PlayerLine'][x].split()))\n",
    "    #dfShake.assign(quoteLength=len(dfShake['PlayerLine'][x].split()))\n",
    "dfShake['quoteLength'] = quoteLength"
   ]
  },
  {
   "cell_type": "code",
   "execution_count": 244,
   "metadata": {},
   "outputs": [
    {
     "data": {
      "text/html": [
       "<div>\n",
       "<style scoped>\n",
       "    .dataframe tbody tr th:only-of-type {\n",
       "        vertical-align: middle;\n",
       "    }\n",
       "\n",
       "    .dataframe tbody tr th {\n",
       "        vertical-align: top;\n",
       "    }\n",
       "\n",
       "    .dataframe thead th {\n",
       "        text-align: right;\n",
       "    }\n",
       "</style>\n",
       "<table border=\"1\" class=\"dataframe\">\n",
       "  <thead>\n",
       "    <tr style=\"text-align: right;\">\n",
       "      <th></th>\n",
       "      <th>Play</th>\n",
       "      <th>PlayerLinenumber</th>\n",
       "      <th>Player</th>\n",
       "      <th>PlayerLine</th>\n",
       "      <th>quoteLength</th>\n",
       "    </tr>\n",
       "  </thead>\n",
       "  <tbody>\n",
       "    <tr>\n",
       "      <th>0</th>\n",
       "      <td>A Comedy of Errors</td>\n",
       "      <td>1.0</td>\n",
       "      <td>ADRIANA</td>\n",
       "      <td>Neither my husband nor the slave return'd, Tha...</td>\n",
       "      <td>71</td>\n",
       "    </tr>\n",
       "    <tr>\n",
       "      <th>1</th>\n",
       "      <td>A Comedy of Errors</td>\n",
       "      <td>1.0</td>\n",
       "      <td>AEGEON</td>\n",
       "      <td>Proceed, Solinus, to procure my fall And by th...</td>\n",
       "      <td>16</td>\n",
       "    </tr>\n",
       "    <tr>\n",
       "      <th>2</th>\n",
       "      <td>A Comedy of Errors</td>\n",
       "      <td>1.0</td>\n",
       "      <td>ANGELO</td>\n",
       "      <td>I am sorry, sir, that I have hinder'd you, But...</td>\n",
       "      <td>25</td>\n",
       "    </tr>\n",
       "    <tr>\n",
       "      <th>3</th>\n",
       "      <td>A Comedy of Errors</td>\n",
       "      <td>1.0</td>\n",
       "      <td>ANTIPHOLUS OF EPHESUS</td>\n",
       "      <td>Good Signior Angelo, you must excuse us all, M...</td>\n",
       "      <td>166</td>\n",
       "    </tr>\n",
       "    <tr>\n",
       "      <th>4</th>\n",
       "      <td>A Comedy of Errors</td>\n",
       "      <td>1.0</td>\n",
       "      <td>DROMIO OF SYRACUSE</td>\n",
       "      <td>The gold I gave to Dromio is laid up Safe at t...</td>\n",
       "      <td>186</td>\n",
       "    </tr>\n",
       "  </tbody>\n",
       "</table>\n",
       "</div>"
      ],
      "text/plain": [
       "                 Play  PlayerLinenumber                 Player  \\\n",
       "0  A Comedy of Errors               1.0                ADRIANA   \n",
       "1  A Comedy of Errors               1.0                 AEGEON   \n",
       "2  A Comedy of Errors               1.0                 ANGELO   \n",
       "3  A Comedy of Errors               1.0  ANTIPHOLUS OF EPHESUS   \n",
       "4  A Comedy of Errors               1.0     DROMIO OF SYRACUSE   \n",
       "\n",
       "                                          PlayerLine  quoteLength  \n",
       "0  Neither my husband nor the slave return'd, Tha...           71  \n",
       "1  Proceed, Solinus, to procure my fall And by th...           16  \n",
       "2  I am sorry, sir, that I have hinder'd you, But...           25  \n",
       "3  Good Signior Angelo, you must excuse us all, M...          166  \n",
       "4  The gold I gave to Dromio is laid up Safe at t...          186  "
      ]
     },
     "execution_count": 244,
     "metadata": {},
     "output_type": "execute_result"
    }
   ],
   "source": [
    "dfShake.head()"
   ]
  },
  {
   "cell_type": "markdown",
   "metadata": {},
   "source": [
    "Summary statistics for the quote length variable: (provided more time, I wanted to make a bar chart of this variable to observe its distribution)"
   ]
  },
  {
   "cell_type": "code",
   "execution_count": 245,
   "metadata": {},
   "outputs": [
    {
     "data": {
      "text/plain": [
       "count    22217.000000\n",
       "mean        35.496737\n",
       "std         53.561607\n",
       "min          1.000000\n",
       "25%          8.000000\n",
       "50%         17.000000\n",
       "75%         41.000000\n",
       "max       1555.000000\n",
       "Name: quoteLength, dtype: float64"
      ]
     },
     "execution_count": 245,
     "metadata": {},
     "output_type": "execute_result"
    }
   ],
   "source": [
    "dfShake['quoteLength'].describe()"
   ]
  },
  {
   "cell_type": "code",
   "execution_count": null,
   "metadata": {},
   "outputs": [],
   "source": [
    "dfShake.plot(kind='bar',x='quoteLength',legend=None,title=\"Quote Length Di\")"
   ]
  },
  {
   "cell_type": "markdown",
   "metadata": {},
   "source": [
    "Check how many times there are 1 word lines:"
   ]
  },
  {
   "cell_type": "code",
   "execution_count": 246,
   "metadata": {},
   "outputs": [
    {
     "name": "stdout",
     "output_type": "stream",
     "text": [
      "Count of 1 word lines = 215\n"
     ]
    }
   ],
   "source": [
    "count=0\n",
    "for i in range(0,len(dfShake['PlayerLine'])):\n",
    "    if(dfShake['quoteLength'][i] == 1):\n",
    "        #print(dfShake.iloc[i])\n",
    "        count=count+1\n",
    "\n",
    "print('Count of 1 word lines =', count) "
   ]
  },
  {
   "cell_type": "markdown",
   "metadata": {},
   "source": [
    "Check how many times there are 1555 word lines: This only happens one time, so we know if there are 1555 lines, the player=chorus"
   ]
  },
  {
   "cell_type": "code",
   "execution_count": 247,
   "metadata": {},
   "outputs": [
    {
     "name": "stdout",
     "output_type": "stream",
     "text": [
      "Play                                                          Henry V\n",
      "PlayerLinenumber                                                    1\n",
      "Player                                                         Chorus\n",
      "PlayerLine          O for a Muse of fire, that would ascend The br...\n",
      "quoteLength                                                      1555\n",
      "Name: 6172, dtype: object\n",
      "Count of 1555 word lines = 1\n"
     ]
    }
   ],
   "source": [
    "count=0\n",
    "for i in range(0,len(dfShake['PlayerLine'])):\n",
    "    if(dfShake['quoteLength'][i] == 1555):\n",
    "        print(dfShake.iloc[i])\n",
    "        count=count+1\n",
    "\n",
    "print('Count of 1555 word lines =', count) "
   ]
  },
  {
   "cell_type": "markdown",
   "metadata": {},
   "source": [
    "Check how many times there are < and >= an average # word lines (35): The average number of words could be a good starting cutpoint for a decision tree."
   ]
  },
  {
   "cell_type": "code",
   "execution_count": 248,
   "metadata": {},
   "outputs": [
    {
     "name": "stdout",
     "output_type": "stream",
     "text": [
      "Count of <avg lines = 15701\n"
     ]
    }
   ],
   "source": [
    "count=0\n",
    "for i in range(0,len(dfShake['PlayerLine'])):\n",
    "    if(dfShake['quoteLength'][i] < 35):\n",
    "        #print(dfShake.iloc[i])\n",
    "        count=count+1\n",
    "\n",
    "print('Count of <avg lines =', count) "
   ]
  },
  {
   "cell_type": "code",
   "execution_count": 249,
   "metadata": {},
   "outputs": [
    {
     "name": "stdout",
     "output_type": "stream",
     "text": [
      "Count of >=avg lines = 6516\n"
     ]
    }
   ],
   "source": [
    "count=0\n",
    "for i in range(0,len(dfShake['PlayerLine'])):\n",
    "    if(dfShake['quoteLength'][i] >= 35):\n",
    "        #print(dfShake.iloc[i])\n",
    "        count=count+1\n",
    "\n",
    "print('Count of >=avg lines =', count) "
   ]
  },
  {
   "cell_type": "markdown",
   "metadata": {},
   "source": [
    "I will now create 2 additional features: a variable that contains the average sentence length of each quote (playerLine), and a variable that contains the number of sentences of each quote (playerLine). These variables could be useful in that they will provide more information related to the Player's style of speaking: if a player tends to respond curtly, with short sentences as opposed to a player that likes to speak in long rambling sentences."
   ]
  },
  {
   "cell_type": "code",
   "execution_count": 250,
   "metadata": {
    "pixiedust": {
     "displayParams": {}
    }
   },
   "outputs": [],
   "source": [
    "def Avg(lst): \n",
    "    return sum(lst) / len(lst)\n",
    "\n",
    "AvgSentLen=[] #New feature: avg sentence length\n",
    "NumSentPerLine=[] #New feature: number of sentences per quote\n",
    "sentenceLen=[] #sentence Lengths per quote\n",
    "count=0\n",
    "for i in range(0,len(dfShake['PlayerLine'])):\n",
    "    tempQuote=dfShake['PlayerLine'][i].split()\n",
    "    \n",
    "    for j in range(0,len(tempQuote)):\n",
    "        count=count+1\n",
    "        if(\".\" in tempQuote[j] or \"?\" in tempQuote[j] or \"!\" in tempQuote[j] or \"--\" in tempQuote[j]):\n",
    "            sentenceLen.append(count)\n",
    "            count=0\n",
    "    if(len(sentenceLen)>0):\n",
    "        AvgSentLen.append(Avg(sentenceLen))\n",
    "        NumSentPerLine.append(len(sentenceLen))\n",
    "    else:\n",
    "        AvgSentLen.append(0)\n",
    "        NumSentPerLine.append(0)\n",
    "    sentenceLen.clear()\n",
    "\n",
    "    \n",
    "dfShake['AvgSentLen'] = AvgSentLen\n",
    "dfShake['NumSentPerLine']=NumSentPerLine"
   ]
  },
  {
   "cell_type": "code",
   "execution_count": 251,
   "metadata": {},
   "outputs": [
    {
     "data": {
      "text/html": [
       "<div>\n",
       "<style scoped>\n",
       "    .dataframe tbody tr th:only-of-type {\n",
       "        vertical-align: middle;\n",
       "    }\n",
       "\n",
       "    .dataframe tbody tr th {\n",
       "        vertical-align: top;\n",
       "    }\n",
       "\n",
       "    .dataframe thead th {\n",
       "        text-align: right;\n",
       "    }\n",
       "</style>\n",
       "<table border=\"1\" class=\"dataframe\">\n",
       "  <thead>\n",
       "    <tr style=\"text-align: right;\">\n",
       "      <th></th>\n",
       "      <th>Play</th>\n",
       "      <th>PlayerLinenumber</th>\n",
       "      <th>Player</th>\n",
       "      <th>PlayerLine</th>\n",
       "      <th>quoteLength</th>\n",
       "      <th>AvgSentLen</th>\n",
       "      <th>NumSentPerLine</th>\n",
       "    </tr>\n",
       "  </thead>\n",
       "  <tbody>\n",
       "    <tr>\n",
       "      <th>0</th>\n",
       "      <td>A Comedy of Errors</td>\n",
       "      <td>1.0</td>\n",
       "      <td>ADRIANA</td>\n",
       "      <td>Neither my husband nor the slave return'd, Tha...</td>\n",
       "      <td>71</td>\n",
       "      <td>10.142857</td>\n",
       "      <td>7</td>\n",
       "    </tr>\n",
       "    <tr>\n",
       "      <th>1</th>\n",
       "      <td>A Comedy of Errors</td>\n",
       "      <td>1.0</td>\n",
       "      <td>AEGEON</td>\n",
       "      <td>Proceed, Solinus, to procure my fall And by th...</td>\n",
       "      <td>16</td>\n",
       "      <td>16.000000</td>\n",
       "      <td>1</td>\n",
       "    </tr>\n",
       "    <tr>\n",
       "      <th>2</th>\n",
       "      <td>A Comedy of Errors</td>\n",
       "      <td>1.0</td>\n",
       "      <td>ANGELO</td>\n",
       "      <td>I am sorry, sir, that I have hinder'd you, But...</td>\n",
       "      <td>25</td>\n",
       "      <td>25.000000</td>\n",
       "      <td>1</td>\n",
       "    </tr>\n",
       "    <tr>\n",
       "      <th>3</th>\n",
       "      <td>A Comedy of Errors</td>\n",
       "      <td>1.0</td>\n",
       "      <td>ANTIPHOLUS OF EPHESUS</td>\n",
       "      <td>Good Signior Angelo, you must excuse us all, M...</td>\n",
       "      <td>166</td>\n",
       "      <td>20.750000</td>\n",
       "      <td>8</td>\n",
       "    </tr>\n",
       "    <tr>\n",
       "      <th>4</th>\n",
       "      <td>A Comedy of Errors</td>\n",
       "      <td>1.0</td>\n",
       "      <td>DROMIO OF SYRACUSE</td>\n",
       "      <td>The gold I gave to Dromio is laid up Safe at t...</td>\n",
       "      <td>186</td>\n",
       "      <td>13.285714</td>\n",
       "      <td>14</td>\n",
       "    </tr>\n",
       "  </tbody>\n",
       "</table>\n",
       "</div>"
      ],
      "text/plain": [
       "                 Play  PlayerLinenumber                 Player  \\\n",
       "0  A Comedy of Errors               1.0                ADRIANA   \n",
       "1  A Comedy of Errors               1.0                 AEGEON   \n",
       "2  A Comedy of Errors               1.0                 ANGELO   \n",
       "3  A Comedy of Errors               1.0  ANTIPHOLUS OF EPHESUS   \n",
       "4  A Comedy of Errors               1.0     DROMIO OF SYRACUSE   \n",
       "\n",
       "                                          PlayerLine  quoteLength  AvgSentLen  \\\n",
       "0  Neither my husband nor the slave return'd, Tha...           71   10.142857   \n",
       "1  Proceed, Solinus, to procure my fall And by th...           16   16.000000   \n",
       "2  I am sorry, sir, that I have hinder'd you, But...           25   25.000000   \n",
       "3  Good Signior Angelo, you must excuse us all, M...          166   20.750000   \n",
       "4  The gold I gave to Dromio is laid up Safe at t...          186   13.285714   \n",
       "\n",
       "   NumSentPerLine  \n",
       "0               7  \n",
       "1               1  \n",
       "2               1  \n",
       "3               8  \n",
       "4              14  "
      ]
     },
     "execution_count": 251,
     "metadata": {},
     "output_type": "execute_result"
    }
   ],
   "source": [
    "dfShake.head()"
   ]
  },
  {
   "cell_type": "markdown",
   "metadata": {},
   "source": [
    "Check how many rows contain 0 sentence length. After visual observation of the quotes whose AvgSentLen is 0, the quotes are not empty. However, they end in a value different from ?, !, --, . so there is no good way to adjust the sentence length function without sacrificing the rest of the data. Therefore, since there are only 26 observations for which that happens, I drop them from the data."
   ]
  },
  {
   "cell_type": "code",
   "execution_count": 252,
   "metadata": {},
   "outputs": [
    {
     "name": "stdout",
     "output_type": "stream",
     "text": [
      "Count of 0 sentence length lines = 26\n"
     ]
    }
   ],
   "source": [
    "count=0\n",
    "for i in range(0,len(dfShake['AvgSentLen'])):\n",
    "    if(dfShake['AvgSentLen'][i] < 1):\n",
    "        #print(dfShake.iloc[i])\n",
    "        count=count+1\n",
    "        dfShake.drop([i],inplace=True, axis=0)\n",
    "\n",
    "print('Count of 0 sentence length lines =', count) "
   ]
  },
  {
   "cell_type": "code",
   "execution_count": 253,
   "metadata": {},
   "outputs": [],
   "source": [
    "#dfShake.to_csv('finalData.csv')"
   ]
  },
  {
   "cell_type": "markdown",
   "metadata": {},
   "source": [
    "## Classification and Conclusion"
   ]
  },
  {
   "cell_type": "markdown",
   "metadata": {},
   "source": [
    "I use 2 methods for classification: Decision tree, and Random forest. I chose to use decision tree because of the ease of interpretation and visualization. Provided more time I would have liked to visualize the tree itself. I then wanted to run a random forest because it is a more robust version of decision trees (since it uses many trees as opposed to just one). Since my features are numerical I envisioned a decision tree where: if the playerLine has less than average number of words in the quote (the average words per quote is 35 as seen above) go left, otherwise go right. And as you navigate down the tree using the features and categorizations of said features you narrow the Player possibilities until you have a few left. There is one line spoken by the chorus that is 1555 words, so we would know if we follow this hypothetical decision tree to the right all the way we would find 'chorus' as the speaker. \n",
    "\n",
    "The results for both methods are very inaccurate, as seen below: the accuracy for both is around 0.7%. The reason for this is most likely because of the features I chose. All 3 features are fairly similar since they all deal with the length of the Playerline and therefore impart similar information to the model. Again provided more time I would have liked to create more features that impart better/more information to the models. I believe the accuracy rate of both were similar because: if the decision tree is already inaccurate, lots of decision trees via random forest aren't going to produce better results.\n",
    "\n",
    "Additionally I would have liked to use different models, like logistic regression on my data. Since both decision trees and random forest use the same underlying tree logic, it would have been nice to try a different model on the data."
   ]
  },
  {
   "cell_type": "code",
   "execution_count": 254,
   "metadata": {},
   "outputs": [],
   "source": [
    "feature_cols = ['quoteLength', 'AvgSentLen', 'NumSentPerLine']\n",
    "X = dfShake[feature_cols] # Features\n",
    "y = dfShake.Player # Target variable"
   ]
  },
  {
   "cell_type": "code",
   "execution_count": 255,
   "metadata": {},
   "outputs": [],
   "source": [
    "# Split dataset into training set and test set\n",
    "X_train, X_test, y_train, y_test = train_test_split(X, y, test_size=0.3, random_state=1)"
   ]
  },
  {
   "cell_type": "code",
   "execution_count": 256,
   "metadata": {},
   "outputs": [],
   "source": [
    "# Create Decision Tree classifer object\n",
    "clf1 = DecisionTreeClassifier()\n",
    "\n",
    "# Train Decision Tree Classifer\n",
    "clf1 = clf1.fit(X_train,y_train)\n",
    "\n",
    "#Predict the response for test dataset\n",
    "y_pred = clf1.predict(X_test)"
   ]
  },
  {
   "cell_type": "code",
   "execution_count": 257,
   "metadata": {},
   "outputs": [
    {
     "name": "stdout",
     "output_type": "stream",
     "text": [
      "Accuracy: 0.007659957945328927\n"
     ]
    }
   ],
   "source": [
    "# Model Accuracy, how often is the classifier correct?\n",
    "print(\"Accuracy:\",metrics.accuracy_score(y_test, y_pred))"
   ]
  },
  {
   "cell_type": "code",
   "execution_count": 258,
   "metadata": {},
   "outputs": [],
   "source": [
    "#Create a Gaussian Classifier\n",
    "clf2=RandomForestClassifier(n_estimators=100)\n",
    "\n",
    "#Train the model using the training sets y_pred=clf.predict(X_test)\n",
    "clf2.fit(X_train,y_train)\n",
    "\n",
    "y_pred=clf2.predict(X_test)"
   ]
  },
  {
   "cell_type": "code",
   "execution_count": 259,
   "metadata": {},
   "outputs": [
    {
     "name": "stdout",
     "output_type": "stream",
     "text": [
      "Accuracy: 0.00735956743766897\n"
     ]
    }
   ],
   "source": [
    "#Import scikit-learn metrics module for accuracy calculation\n",
    "from sklearn import metrics\n",
    "# Model Accuracy, how often is the classifier correct?\n",
    "print(\"Accuracy:\",metrics.accuracy_score(y_test, y_pred))"
   ]
  },
  {
   "cell_type": "markdown",
   "metadata": {},
   "source": [
    "## Concluding Remarks\n",
    "\n",
    "Overall, I spent most of my time cleaning the data, altering the layout of the data, and engineering new features from that data. Provided more time I would have liked to come up with better features as discussed earlier and use more classification models such as logistic regression. Some features that I thought of but didn't have time to implement were: Player speaking frequency variable (based on the number of lines they had in the play), a unique ID for each play (since plays are stored as strings here), a most used word variable (a measure of which players used popular words more often). Additionally, I would have liked to apply the classification models to smallers subsets of data (ie single plays) as opposed to the whole dataset. "
   ]
  }
 ],
 "metadata": {
  "kernelspec": {
   "display_name": "Python 3",
   "language": "python",
   "name": "python3"
  },
  "language_info": {
   "codemirror_mode": {
    "name": "ipython",
    "version": 3
   },
   "file_extension": ".py",
   "mimetype": "text/x-python",
   "name": "python",
   "nbconvert_exporter": "python",
   "pygments_lexer": "ipython3",
   "version": "3.8.3"
  }
 },
 "nbformat": 4,
 "nbformat_minor": 4
}
