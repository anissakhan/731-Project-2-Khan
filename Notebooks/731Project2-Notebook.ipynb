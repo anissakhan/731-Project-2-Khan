{
 "cells": [
  {
   "cell_type": "markdown",
   "metadata": {},
   "source": [
    "# To Be or Not To Be"
   ]
  },
  {
   "cell_type": "code",
   "execution_count": 155,
   "metadata": {},
   "outputs": [],
   "source": [
    "import numpy as np"
   ]
  },
  {
   "cell_type": "code",
   "execution_count": 156,
   "metadata": {},
   "outputs": [],
   "source": [
    "import pandas as pd"
   ]
  },
  {
   "cell_type": "code",
   "execution_count": 157,
   "metadata": {},
   "outputs": [],
   "source": [
    "import matplotlib.pyplot as plt"
   ]
  },
  {
   "cell_type": "code",
   "execution_count": 158,
   "metadata": {},
   "outputs": [],
   "source": [
    "from sklearn.tree import DecisionTreeClassifier # Import Decision Tree Classifier\n",
    "from sklearn.model_selection import train_test_split # Import train_test_split function\n",
    "from sklearn import metrics #Import scikit-learn metrics module for accuracy calculation"
   ]
  },
  {
   "cell_type": "code",
   "execution_count": 159,
   "metadata": {},
   "outputs": [],
   "source": [
    "dfShake=pd.read_csv(\"file://localhost/Users/anissakhan/Dropbox/Nissa_stuff/KU_CS/EECS731/731-Project-2-Khan/Data/RawData/Shakespeare_data.csv\")"
   ]
  },
  {
   "cell_type": "code",
   "execution_count": 160,
   "metadata": {},
   "outputs": [
    {
     "data": {
      "text/html": [
       "<div>\n",
       "<style scoped>\n",
       "    .dataframe tbody tr th:only-of-type {\n",
       "        vertical-align: middle;\n",
       "    }\n",
       "\n",
       "    .dataframe tbody tr th {\n",
       "        vertical-align: top;\n",
       "    }\n",
       "\n",
       "    .dataframe thead th {\n",
       "        text-align: right;\n",
       "    }\n",
       "</style>\n",
       "<table border=\"1\" class=\"dataframe\">\n",
       "  <thead>\n",
       "    <tr style=\"text-align: right;\">\n",
       "      <th></th>\n",
       "      <th>Dataline</th>\n",
       "      <th>Play</th>\n",
       "      <th>PlayerLinenumber</th>\n",
       "      <th>ActSceneLine</th>\n",
       "      <th>Player</th>\n",
       "      <th>PlayerLine</th>\n",
       "    </tr>\n",
       "  </thead>\n",
       "  <tbody>\n",
       "    <tr>\n",
       "      <th>0</th>\n",
       "      <td>1</td>\n",
       "      <td>Henry IV</td>\n",
       "      <td>NaN</td>\n",
       "      <td>NaN</td>\n",
       "      <td>NaN</td>\n",
       "      <td>ACT I</td>\n",
       "    </tr>\n",
       "    <tr>\n",
       "      <th>1</th>\n",
       "      <td>2</td>\n",
       "      <td>Henry IV</td>\n",
       "      <td>NaN</td>\n",
       "      <td>NaN</td>\n",
       "      <td>NaN</td>\n",
       "      <td>SCENE I. London. The palace.</td>\n",
       "    </tr>\n",
       "    <tr>\n",
       "      <th>2</th>\n",
       "      <td>3</td>\n",
       "      <td>Henry IV</td>\n",
       "      <td>NaN</td>\n",
       "      <td>NaN</td>\n",
       "      <td>NaN</td>\n",
       "      <td>Enter KING HENRY, LORD JOHN OF LANCASTER, the ...</td>\n",
       "    </tr>\n",
       "    <tr>\n",
       "      <th>3</th>\n",
       "      <td>4</td>\n",
       "      <td>Henry IV</td>\n",
       "      <td>1.0</td>\n",
       "      <td>1.1.1</td>\n",
       "      <td>KING HENRY IV</td>\n",
       "      <td>So shaken as we are, so wan with care,</td>\n",
       "    </tr>\n",
       "    <tr>\n",
       "      <th>4</th>\n",
       "      <td>5</td>\n",
       "      <td>Henry IV</td>\n",
       "      <td>1.0</td>\n",
       "      <td>1.1.2</td>\n",
       "      <td>KING HENRY IV</td>\n",
       "      <td>Find we a time for frighted peace to pant,</td>\n",
       "    </tr>\n",
       "  </tbody>\n",
       "</table>\n",
       "</div>"
      ],
      "text/plain": [
       "   Dataline      Play  PlayerLinenumber ActSceneLine         Player  \\\n",
       "0         1  Henry IV               NaN          NaN            NaN   \n",
       "1         2  Henry IV               NaN          NaN            NaN   \n",
       "2         3  Henry IV               NaN          NaN            NaN   \n",
       "3         4  Henry IV               1.0        1.1.1  KING HENRY IV   \n",
       "4         5  Henry IV               1.0        1.1.2  KING HENRY IV   \n",
       "\n",
       "                                          PlayerLine  \n",
       "0                                              ACT I  \n",
       "1                       SCENE I. London. The palace.  \n",
       "2  Enter KING HENRY, LORD JOHN OF LANCASTER, the ...  \n",
       "3             So shaken as we are, so wan with care,  \n",
       "4         Find we a time for frighted peace to pant,  "
      ]
     },
     "execution_count": 160,
     "metadata": {},
     "output_type": "execute_result"
    }
   ],
   "source": [
    "dfShake.head()"
   ]
  },
  {
   "cell_type": "markdown",
   "metadata": {},
   "source": [
    "## Data Cleaning"
   ]
  },
  {
   "cell_type": "markdown",
   "metadata": {},
   "source": [
    "If Player doesn't exist (Player=NaN), delete those observations, because the associated PlayerLine is not spoken by anyone (example: PlayerLine=ACT I).\n",
    "\n",
    "If ActSceneLine doesn't exist (ActSceneLine=NaN), delete those observations, because the associated PlayerLine is a stage direction and therefore not spoken by anyone (example: ActSceneLine=SCENE III. London. The palace.).\n",
    "\n",
    "In the dropna command, inplace=True because we want the dataframe itself to be changed (as opposed to a copy of the dataframe)"
   ]
  },
  {
   "cell_type": "code",
   "execution_count": 161,
   "metadata": {},
   "outputs": [],
   "source": [
    "dfShake.dropna(subset = [\"Player\"], inplace=True)"
   ]
  },
  {
   "cell_type": "code",
   "execution_count": 162,
   "metadata": {},
   "outputs": [],
   "source": [
    "dfShake.dropna(subset = [\"ActSceneLine\"], inplace=True)"
   ]
  },
  {
   "cell_type": "markdown",
   "metadata": {},
   "source": [
    "Verify there are no more missing values in the dataset. Since the number of entries matches the non-null count for all variables, we know there are no more missing values."
   ]
  },
  {
   "cell_type": "code",
   "execution_count": 163,
   "metadata": {},
   "outputs": [
    {
     "name": "stdout",
     "output_type": "stream",
     "text": [
      "<class 'pandas.core.frame.DataFrame'>\n",
      "Int64Index: 105152 entries, 3 to 111394\n",
      "Data columns (total 6 columns):\n",
      " #   Column            Non-Null Count   Dtype  \n",
      "---  ------            --------------   -----  \n",
      " 0   Dataline          105152 non-null  int64  \n",
      " 1   Play              105152 non-null  object \n",
      " 2   PlayerLinenumber  105152 non-null  float64\n",
      " 3   ActSceneLine      105152 non-null  object \n",
      " 4   Player            105152 non-null  object \n",
      " 5   PlayerLine        105152 non-null  object \n",
      "dtypes: float64(1), int64(1), object(4)\n",
      "memory usage: 5.6+ MB\n"
     ]
    }
   ],
   "source": [
    "dfShake.info()"
   ]
  },
  {
   "cell_type": "code",
   "execution_count": 164,
   "metadata": {},
   "outputs": [
    {
     "data": {
      "text/html": [
       "<div>\n",
       "<style scoped>\n",
       "    .dataframe tbody tr th:only-of-type {\n",
       "        vertical-align: middle;\n",
       "    }\n",
       "\n",
       "    .dataframe tbody tr th {\n",
       "        vertical-align: top;\n",
       "    }\n",
       "\n",
       "    .dataframe thead th {\n",
       "        text-align: right;\n",
       "    }\n",
       "</style>\n",
       "<table border=\"1\" class=\"dataframe\">\n",
       "  <thead>\n",
       "    <tr style=\"text-align: right;\">\n",
       "      <th></th>\n",
       "      <th>Dataline</th>\n",
       "      <th>Play</th>\n",
       "      <th>PlayerLinenumber</th>\n",
       "      <th>ActSceneLine</th>\n",
       "      <th>Player</th>\n",
       "      <th>PlayerLine</th>\n",
       "    </tr>\n",
       "  </thead>\n",
       "  <tbody>\n",
       "    <tr>\n",
       "      <th>3</th>\n",
       "      <td>4</td>\n",
       "      <td>Henry IV</td>\n",
       "      <td>1.0</td>\n",
       "      <td>1.1.1</td>\n",
       "      <td>KING HENRY IV</td>\n",
       "      <td>So shaken as we are, so wan with care,</td>\n",
       "    </tr>\n",
       "    <tr>\n",
       "      <th>4</th>\n",
       "      <td>5</td>\n",
       "      <td>Henry IV</td>\n",
       "      <td>1.0</td>\n",
       "      <td>1.1.2</td>\n",
       "      <td>KING HENRY IV</td>\n",
       "      <td>Find we a time for frighted peace to pant,</td>\n",
       "    </tr>\n",
       "    <tr>\n",
       "      <th>5</th>\n",
       "      <td>6</td>\n",
       "      <td>Henry IV</td>\n",
       "      <td>1.0</td>\n",
       "      <td>1.1.3</td>\n",
       "      <td>KING HENRY IV</td>\n",
       "      <td>And breathe short-winded accents of new broils</td>\n",
       "    </tr>\n",
       "    <tr>\n",
       "      <th>6</th>\n",
       "      <td>7</td>\n",
       "      <td>Henry IV</td>\n",
       "      <td>1.0</td>\n",
       "      <td>1.1.4</td>\n",
       "      <td>KING HENRY IV</td>\n",
       "      <td>To be commenced in strands afar remote.</td>\n",
       "    </tr>\n",
       "    <tr>\n",
       "      <th>7</th>\n",
       "      <td>8</td>\n",
       "      <td>Henry IV</td>\n",
       "      <td>1.0</td>\n",
       "      <td>1.1.5</td>\n",
       "      <td>KING HENRY IV</td>\n",
       "      <td>No more the thirsty entrance of this soil</td>\n",
       "    </tr>\n",
       "  </tbody>\n",
       "</table>\n",
       "</div>"
      ],
      "text/plain": [
       "   Dataline      Play  PlayerLinenumber ActSceneLine         Player  \\\n",
       "3         4  Henry IV               1.0        1.1.1  KING HENRY IV   \n",
       "4         5  Henry IV               1.0        1.1.2  KING HENRY IV   \n",
       "5         6  Henry IV               1.0        1.1.3  KING HENRY IV   \n",
       "6         7  Henry IV               1.0        1.1.4  KING HENRY IV   \n",
       "7         8  Henry IV               1.0        1.1.5  KING HENRY IV   \n",
       "\n",
       "                                       PlayerLine  \n",
       "3          So shaken as we are, so wan with care,  \n",
       "4      Find we a time for frighted peace to pant,  \n",
       "5  And breathe short-winded accents of new broils  \n",
       "6         To be commenced in strands afar remote.  \n",
       "7       No more the thirsty entrance of this soil  "
      ]
     },
     "execution_count": 164,
     "metadata": {},
     "output_type": "execute_result"
    }
   ],
   "source": [
    "dfShake.head()"
   ]
  },
  {
   "cell_type": "code",
   "execution_count": 165,
   "metadata": {},
   "outputs": [],
   "source": [
    "dfShake=dfShake.reset_index()"
   ]
  },
  {
   "cell_type": "code",
   "execution_count": 166,
   "metadata": {},
   "outputs": [
    {
     "data": {
      "text/html": [
       "<div>\n",
       "<style scoped>\n",
       "    .dataframe tbody tr th:only-of-type {\n",
       "        vertical-align: middle;\n",
       "    }\n",
       "\n",
       "    .dataframe tbody tr th {\n",
       "        vertical-align: top;\n",
       "    }\n",
       "\n",
       "    .dataframe thead th {\n",
       "        text-align: right;\n",
       "    }\n",
       "</style>\n",
       "<table border=\"1\" class=\"dataframe\">\n",
       "  <thead>\n",
       "    <tr style=\"text-align: right;\">\n",
       "      <th></th>\n",
       "      <th>index</th>\n",
       "      <th>Dataline</th>\n",
       "      <th>Play</th>\n",
       "      <th>PlayerLinenumber</th>\n",
       "      <th>ActSceneLine</th>\n",
       "      <th>Player</th>\n",
       "      <th>PlayerLine</th>\n",
       "    </tr>\n",
       "  </thead>\n",
       "  <tbody>\n",
       "    <tr>\n",
       "      <th>0</th>\n",
       "      <td>3</td>\n",
       "      <td>4</td>\n",
       "      <td>Henry IV</td>\n",
       "      <td>1.0</td>\n",
       "      <td>1.1.1</td>\n",
       "      <td>KING HENRY IV</td>\n",
       "      <td>So shaken as we are, so wan with care,</td>\n",
       "    </tr>\n",
       "    <tr>\n",
       "      <th>1</th>\n",
       "      <td>4</td>\n",
       "      <td>5</td>\n",
       "      <td>Henry IV</td>\n",
       "      <td>1.0</td>\n",
       "      <td>1.1.2</td>\n",
       "      <td>KING HENRY IV</td>\n",
       "      <td>Find we a time for frighted peace to pant,</td>\n",
       "    </tr>\n",
       "    <tr>\n",
       "      <th>2</th>\n",
       "      <td>5</td>\n",
       "      <td>6</td>\n",
       "      <td>Henry IV</td>\n",
       "      <td>1.0</td>\n",
       "      <td>1.1.3</td>\n",
       "      <td>KING HENRY IV</td>\n",
       "      <td>And breathe short-winded accents of new broils</td>\n",
       "    </tr>\n",
       "    <tr>\n",
       "      <th>3</th>\n",
       "      <td>6</td>\n",
       "      <td>7</td>\n",
       "      <td>Henry IV</td>\n",
       "      <td>1.0</td>\n",
       "      <td>1.1.4</td>\n",
       "      <td>KING HENRY IV</td>\n",
       "      <td>To be commenced in strands afar remote.</td>\n",
       "    </tr>\n",
       "    <tr>\n",
       "      <th>4</th>\n",
       "      <td>7</td>\n",
       "      <td>8</td>\n",
       "      <td>Henry IV</td>\n",
       "      <td>1.0</td>\n",
       "      <td>1.1.5</td>\n",
       "      <td>KING HENRY IV</td>\n",
       "      <td>No more the thirsty entrance of this soil</td>\n",
       "    </tr>\n",
       "    <tr>\n",
       "      <th>...</th>\n",
       "      <td>...</td>\n",
       "      <td>...</td>\n",
       "      <td>...</td>\n",
       "      <td>...</td>\n",
       "      <td>...</td>\n",
       "      <td>...</td>\n",
       "      <td>...</td>\n",
       "    </tr>\n",
       "    <tr>\n",
       "      <th>105147</th>\n",
       "      <td>111390</td>\n",
       "      <td>111391</td>\n",
       "      <td>A Winters Tale</td>\n",
       "      <td>38.0</td>\n",
       "      <td>5.3.179</td>\n",
       "      <td>LEONTES</td>\n",
       "      <td>Is troth-plight to your daughter. Good Paulina,</td>\n",
       "    </tr>\n",
       "    <tr>\n",
       "      <th>105148</th>\n",
       "      <td>111391</td>\n",
       "      <td>111392</td>\n",
       "      <td>A Winters Tale</td>\n",
       "      <td>38.0</td>\n",
       "      <td>5.3.180</td>\n",
       "      <td>LEONTES</td>\n",
       "      <td>Lead us from hence, where we may leisurely</td>\n",
       "    </tr>\n",
       "    <tr>\n",
       "      <th>105149</th>\n",
       "      <td>111392</td>\n",
       "      <td>111393</td>\n",
       "      <td>A Winters Tale</td>\n",
       "      <td>38.0</td>\n",
       "      <td>5.3.181</td>\n",
       "      <td>LEONTES</td>\n",
       "      <td>Each one demand an answer to his part</td>\n",
       "    </tr>\n",
       "    <tr>\n",
       "      <th>105150</th>\n",
       "      <td>111393</td>\n",
       "      <td>111394</td>\n",
       "      <td>A Winters Tale</td>\n",
       "      <td>38.0</td>\n",
       "      <td>5.3.182</td>\n",
       "      <td>LEONTES</td>\n",
       "      <td>Perform'd in this wide gap of time since first</td>\n",
       "    </tr>\n",
       "    <tr>\n",
       "      <th>105151</th>\n",
       "      <td>111394</td>\n",
       "      <td>111395</td>\n",
       "      <td>A Winters Tale</td>\n",
       "      <td>38.0</td>\n",
       "      <td>5.3.183</td>\n",
       "      <td>LEONTES</td>\n",
       "      <td>We were dissever'd: hastily lead away.</td>\n",
       "    </tr>\n",
       "  </tbody>\n",
       "</table>\n",
       "<p>105152 rows × 7 columns</p>\n",
       "</div>"
      ],
      "text/plain": [
       "         index  Dataline            Play  PlayerLinenumber ActSceneLine  \\\n",
       "0            3         4        Henry IV               1.0        1.1.1   \n",
       "1            4         5        Henry IV               1.0        1.1.2   \n",
       "2            5         6        Henry IV               1.0        1.1.3   \n",
       "3            6         7        Henry IV               1.0        1.1.4   \n",
       "4            7         8        Henry IV               1.0        1.1.5   \n",
       "...        ...       ...             ...               ...          ...   \n",
       "105147  111390    111391  A Winters Tale              38.0      5.3.179   \n",
       "105148  111391    111392  A Winters Tale              38.0      5.3.180   \n",
       "105149  111392    111393  A Winters Tale              38.0      5.3.181   \n",
       "105150  111393    111394  A Winters Tale              38.0      5.3.182   \n",
       "105151  111394    111395  A Winters Tale              38.0      5.3.183   \n",
       "\n",
       "               Player                                       PlayerLine  \n",
       "0       KING HENRY IV           So shaken as we are, so wan with care,  \n",
       "1       KING HENRY IV       Find we a time for frighted peace to pant,  \n",
       "2       KING HENRY IV   And breathe short-winded accents of new broils  \n",
       "3       KING HENRY IV          To be commenced in strands afar remote.  \n",
       "4       KING HENRY IV        No more the thirsty entrance of this soil  \n",
       "...               ...                                              ...  \n",
       "105147        LEONTES  Is troth-plight to your daughter. Good Paulina,  \n",
       "105148        LEONTES       Lead us from hence, where we may leisurely  \n",
       "105149        LEONTES            Each one demand an answer to his part  \n",
       "105150        LEONTES   Perform'd in this wide gap of time since first  \n",
       "105151        LEONTES           We were dissever'd: hastily lead away.  \n",
       "\n",
       "[105152 rows x 7 columns]"
      ]
     },
     "execution_count": 166,
     "metadata": {},
     "output_type": "execute_result"
    }
   ],
   "source": [
    "dfShake"
   ]
  },
  {
   "cell_type": "markdown",
   "metadata": {},
   "source": [
    "Convert Player and PlayerLine to string"
   ]
  },
  {
   "cell_type": "code",
   "execution_count": 167,
   "metadata": {},
   "outputs": [
    {
     "data": {
      "text/plain": [
       "index                 int64\n",
       "Dataline              int64\n",
       "Play                 object\n",
       "PlayerLinenumber    float64\n",
       "ActSceneLine         object\n",
       "Player               object\n",
       "PlayerLine           object\n",
       "dtype: object"
      ]
     },
     "execution_count": 167,
     "metadata": {},
     "output_type": "execute_result"
    }
   ],
   "source": [
    "dfShake.dtypes"
   ]
  },
  {
   "cell_type": "code",
   "execution_count": 168,
   "metadata": {},
   "outputs": [],
   "source": [
    "dfShake['Player'] = dfShake['Player'].astype(\"string\")\n",
    "dfShake['PlayerLine'] = dfShake['PlayerLine'].astype(\"string\")"
   ]
  },
  {
   "cell_type": "code",
   "execution_count": 169,
   "metadata": {},
   "outputs": [
    {
     "data": {
      "text/plain": [
       "index                 int64\n",
       "Dataline              int64\n",
       "Play                 object\n",
       "PlayerLinenumber    float64\n",
       "ActSceneLine         object\n",
       "Player               string\n",
       "PlayerLine           string\n",
       "dtype: object"
      ]
     },
     "execution_count": 169,
     "metadata": {},
     "output_type": "execute_result"
    }
   ],
   "source": [
    "dfShake.dtypes"
   ]
  },
  {
   "cell_type": "markdown",
   "metadata": {},
   "source": [
    "There is a problem with the data: The player name \"ANTIPHOLUS OF EPHESUS\" has been inadvertently split. \"ANTIPHOLUS\" is split off from the rest of the name and placed incorrectly in PlayerLine"
   ]
  },
  {
   "cell_type": "code",
   "execution_count": 170,
   "metadata": {},
   "outputs": [],
   "source": [
    "dfShake.PlayerLine = dfShake.PlayerLine.str.strip()"
   ]
  },
  {
   "cell_type": "code",
   "execution_count": 171,
   "metadata": {},
   "outputs": [
    {
     "name": "stdout",
     "output_type": "stream",
     "text": [
      "ANTIPHOLUS 22600\n",
      "ANTIPHOLUS 22612\n",
      "Times this error occurs = 175\n"
     ]
    }
   ],
   "source": [
    "count=0\n",
    "for i in range(0,(len(dfShake['PlayerLine']))):\n",
    "    if(dfShake['PlayerLine'][i] == 'ANTIPHOLUS'):\n",
    "        count=count+1\n",
    "        if count<3:\n",
    "            print(dfShake['PlayerLine'][i], dfShake['Dataline'][i])\n",
    "            \n",
    "print('Times this error occurs =', count) "
   ]
  },
  {
   "cell_type": "code",
   "execution_count": 172,
   "metadata": {},
   "outputs": [],
   "source": [
    "for i in range(0,(len(dfShake['PlayerLine']))):\n",
    "    if(dfShake['PlayerLine'][i] == 'ANTIPHOLUS'):\n",
    "        dfShake.drop([i],inplace=True, axis=0)"
   ]
  },
  {
   "cell_type": "code",
   "execution_count": 173,
   "metadata": {},
   "outputs": [],
   "source": [
    "dfShake=dfShake.reset_index()"
   ]
  },
  {
   "cell_type": "code",
   "execution_count": 174,
   "metadata": {},
   "outputs": [],
   "source": [
    "for i in range(0,len(dfShake['Player'])):\n",
    "    if(dfShake['Player'][i] == 'OF EPHESUS'):\n",
    "        dfShake['Player'][i]='ANTIPHOLUS OF EPHESUS'"
   ]
  },
  {
   "cell_type": "markdown",
   "metadata": {},
   "source": [
    "There is also a problem with the player \"DROMIO OF SYRACUSE\". His whole name isn't stored in Player consistently"
   ]
  },
  {
   "cell_type": "code",
   "execution_count": 175,
   "metadata": {},
   "outputs": [
    {
     "name": "stdout",
     "output_type": "stream",
     "text": [
      "OF SYRACUSE 22601\n",
      "OF SYRACUSE 22602\n",
      "Times this error occurs = 269\n"
     ]
    }
   ],
   "source": [
    "count=0\n",
    "for i in range(0,(len(dfShake['Player']))):\n",
    "    if(dfShake['Player'][i] == 'OF SYRACUSE'):\n",
    "        count=count+1\n",
    "        if count<3:\n",
    "            print(dfShake['Player'][i], dfShake['Dataline'][i])\n",
    "\n",
    "print('Times this error occurs =', count) "
   ]
  },
  {
   "cell_type": "code",
   "execution_count": 176,
   "metadata": {},
   "outputs": [],
   "source": [
    "for i in range(0,len(dfShake['Player'])):\n",
    "    if(dfShake['Player'][i] == 'OF SYRACUSE'):\n",
    "        dfShake['Player'][i]='DROMIO OF SYRACUSE'"
   ]
  },
  {
   "cell_type": "code",
   "execution_count": 177,
   "metadata": {},
   "outputs": [],
   "source": [
    "#dfShake.to_csv('test.csv')"
   ]
  },
  {
   "cell_type": "markdown",
   "metadata": {},
   "source": [
    "Combine player lines so that the entire line is contained in a single observation"
   ]
  },
  {
   "cell_type": "code",
   "execution_count": 178,
   "metadata": {},
   "outputs": [],
   "source": [
    "dfShake=dfShake.groupby(['Play','PlayerLinenumber', 'Player'], as_index = False).agg({'PlayerLine': ' '.join})"
   ]
  },
  {
   "cell_type": "code",
   "execution_count": 179,
   "metadata": {},
   "outputs": [
    {
     "data": {
      "text/html": [
       "<div>\n",
       "<style scoped>\n",
       "    .dataframe tbody tr th:only-of-type {\n",
       "        vertical-align: middle;\n",
       "    }\n",
       "\n",
       "    .dataframe tbody tr th {\n",
       "        vertical-align: top;\n",
       "    }\n",
       "\n",
       "    .dataframe thead th {\n",
       "        text-align: right;\n",
       "    }\n",
       "</style>\n",
       "<table border=\"1\" class=\"dataframe\">\n",
       "  <thead>\n",
       "    <tr style=\"text-align: right;\">\n",
       "      <th></th>\n",
       "      <th>Play</th>\n",
       "      <th>PlayerLinenumber</th>\n",
       "      <th>Player</th>\n",
       "      <th>PlayerLine</th>\n",
       "    </tr>\n",
       "  </thead>\n",
       "  <tbody>\n",
       "    <tr>\n",
       "      <th>0</th>\n",
       "      <td>A Comedy of Errors</td>\n",
       "      <td>1.0</td>\n",
       "      <td>ADRIANA</td>\n",
       "      <td>Neither my husband nor the slave return'd, Tha...</td>\n",
       "    </tr>\n",
       "    <tr>\n",
       "      <th>1</th>\n",
       "      <td>A Comedy of Errors</td>\n",
       "      <td>1.0</td>\n",
       "      <td>AEGEON</td>\n",
       "      <td>Proceed, Solinus, to procure my fall And by th...</td>\n",
       "    </tr>\n",
       "    <tr>\n",
       "      <th>2</th>\n",
       "      <td>A Comedy of Errors</td>\n",
       "      <td>1.0</td>\n",
       "      <td>ANGELO</td>\n",
       "      <td>I am sorry, sir, that I have hinder'd you, But...</td>\n",
       "    </tr>\n",
       "    <tr>\n",
       "      <th>3</th>\n",
       "      <td>A Comedy of Errors</td>\n",
       "      <td>1.0</td>\n",
       "      <td>ANTIPHOLUS OF EPHESUS</td>\n",
       "      <td>Good Signior Angelo, you must excuse us all, M...</td>\n",
       "    </tr>\n",
       "    <tr>\n",
       "      <th>4</th>\n",
       "      <td>A Comedy of Errors</td>\n",
       "      <td>1.0</td>\n",
       "      <td>DROMIO OF SYRACUSE</td>\n",
       "      <td>The gold I gave to Dromio is laid up Safe at t...</td>\n",
       "    </tr>\n",
       "    <tr>\n",
       "      <th>...</th>\n",
       "      <td>...</td>\n",
       "      <td>...</td>\n",
       "      <td>...</td>\n",
       "      <td>...</td>\n",
       "    </tr>\n",
       "    <tr>\n",
       "      <th>22212</th>\n",
       "      <td>macbeth</td>\n",
       "      <td>61.0</td>\n",
       "      <td>MALCOLM</td>\n",
       "      <td>Dispute it like a man.</td>\n",
       "    </tr>\n",
       "    <tr>\n",
       "      <th>22213</th>\n",
       "      <td>macbeth</td>\n",
       "      <td>62.0</td>\n",
       "      <td>MACDUFF</td>\n",
       "      <td>I shall do so, But I must also feel it as a ma...</td>\n",
       "    </tr>\n",
       "    <tr>\n",
       "      <th>22214</th>\n",
       "      <td>macbeth</td>\n",
       "      <td>63.0</td>\n",
       "      <td>MALCOLM</td>\n",
       "      <td>Be this the whetstone of your sword: let grief...</td>\n",
       "    </tr>\n",
       "    <tr>\n",
       "      <th>22215</th>\n",
       "      <td>macbeth</td>\n",
       "      <td>64.0</td>\n",
       "      <td>MACDUFF</td>\n",
       "      <td>O, I could play the woman with mine eyes And b...</td>\n",
       "    </tr>\n",
       "    <tr>\n",
       "      <th>22216</th>\n",
       "      <td>macbeth</td>\n",
       "      <td>65.0</td>\n",
       "      <td>MALCOLM</td>\n",
       "      <td>This tune goes manly. Come, go we to the king,...</td>\n",
       "    </tr>\n",
       "  </tbody>\n",
       "</table>\n",
       "<p>22217 rows × 4 columns</p>\n",
       "</div>"
      ],
      "text/plain": [
       "                     Play  PlayerLinenumber                 Player  \\\n",
       "0      A Comedy of Errors               1.0                ADRIANA   \n",
       "1      A Comedy of Errors               1.0                 AEGEON   \n",
       "2      A Comedy of Errors               1.0                 ANGELO   \n",
       "3      A Comedy of Errors               1.0  ANTIPHOLUS OF EPHESUS   \n",
       "4      A Comedy of Errors               1.0     DROMIO OF SYRACUSE   \n",
       "...                   ...               ...                    ...   \n",
       "22212             macbeth              61.0                MALCOLM   \n",
       "22213             macbeth              62.0                MACDUFF   \n",
       "22214             macbeth              63.0                MALCOLM   \n",
       "22215             macbeth              64.0                MACDUFF   \n",
       "22216             macbeth              65.0                MALCOLM   \n",
       "\n",
       "                                              PlayerLine  \n",
       "0      Neither my husband nor the slave return'd, Tha...  \n",
       "1      Proceed, Solinus, to procure my fall And by th...  \n",
       "2      I am sorry, sir, that I have hinder'd you, But...  \n",
       "3      Good Signior Angelo, you must excuse us all, M...  \n",
       "4      The gold I gave to Dromio is laid up Safe at t...  \n",
       "...                                                  ...  \n",
       "22212                             Dispute it like a man.  \n",
       "22213  I shall do so, But I must also feel it as a ma...  \n",
       "22214  Be this the whetstone of your sword: let grief...  \n",
       "22215  O, I could play the woman with mine eyes And b...  \n",
       "22216  This tune goes manly. Come, go we to the king,...  \n",
       "\n",
       "[22217 rows x 4 columns]"
      ]
     },
     "execution_count": 179,
     "metadata": {},
     "output_type": "execute_result"
    }
   ],
   "source": [
    "dfShake"
   ]
  },
  {
   "cell_type": "markdown",
   "metadata": {},
   "source": [
    "## Feature Engineering"
   ]
  },
  {
   "cell_type": "markdown",
   "metadata": {},
   "source": [
    "Create new variable that contains the number of words in each player line. This can be useful if there are certain characters that tend to talk a lot more than others."
   ]
  },
  {
   "cell_type": "code",
   "execution_count": 180,
   "metadata": {},
   "outputs": [],
   "source": [
    "quoteLength = []\n",
    "for x in range(0,len(dfShake['PlayerLine'])):\n",
    "    quoteLength.append(len(dfShake['PlayerLine'][x].split()))\n",
    "    #dfShake.assign(quoteLength=len(dfShake['PlayerLine'][x].split()))\n",
    "dfShake['quoteLength'] = quoteLength"
   ]
  },
  {
   "cell_type": "code",
   "execution_count": 181,
   "metadata": {},
   "outputs": [
    {
     "data": {
      "text/html": [
       "<div>\n",
       "<style scoped>\n",
       "    .dataframe tbody tr th:only-of-type {\n",
       "        vertical-align: middle;\n",
       "    }\n",
       "\n",
       "    .dataframe tbody tr th {\n",
       "        vertical-align: top;\n",
       "    }\n",
       "\n",
       "    .dataframe thead th {\n",
       "        text-align: right;\n",
       "    }\n",
       "</style>\n",
       "<table border=\"1\" class=\"dataframe\">\n",
       "  <thead>\n",
       "    <tr style=\"text-align: right;\">\n",
       "      <th></th>\n",
       "      <th>Play</th>\n",
       "      <th>PlayerLinenumber</th>\n",
       "      <th>Player</th>\n",
       "      <th>PlayerLine</th>\n",
       "      <th>quoteLength</th>\n",
       "    </tr>\n",
       "  </thead>\n",
       "  <tbody>\n",
       "    <tr>\n",
       "      <th>0</th>\n",
       "      <td>A Comedy of Errors</td>\n",
       "      <td>1.0</td>\n",
       "      <td>ADRIANA</td>\n",
       "      <td>Neither my husband nor the slave return'd, Tha...</td>\n",
       "      <td>71</td>\n",
       "    </tr>\n",
       "    <tr>\n",
       "      <th>1</th>\n",
       "      <td>A Comedy of Errors</td>\n",
       "      <td>1.0</td>\n",
       "      <td>AEGEON</td>\n",
       "      <td>Proceed, Solinus, to procure my fall And by th...</td>\n",
       "      <td>16</td>\n",
       "    </tr>\n",
       "    <tr>\n",
       "      <th>2</th>\n",
       "      <td>A Comedy of Errors</td>\n",
       "      <td>1.0</td>\n",
       "      <td>ANGELO</td>\n",
       "      <td>I am sorry, sir, that I have hinder'd you, But...</td>\n",
       "      <td>25</td>\n",
       "    </tr>\n",
       "    <tr>\n",
       "      <th>3</th>\n",
       "      <td>A Comedy of Errors</td>\n",
       "      <td>1.0</td>\n",
       "      <td>ANTIPHOLUS OF EPHESUS</td>\n",
       "      <td>Good Signior Angelo, you must excuse us all, M...</td>\n",
       "      <td>166</td>\n",
       "    </tr>\n",
       "    <tr>\n",
       "      <th>4</th>\n",
       "      <td>A Comedy of Errors</td>\n",
       "      <td>1.0</td>\n",
       "      <td>DROMIO OF SYRACUSE</td>\n",
       "      <td>The gold I gave to Dromio is laid up Safe at t...</td>\n",
       "      <td>186</td>\n",
       "    </tr>\n",
       "  </tbody>\n",
       "</table>\n",
       "</div>"
      ],
      "text/plain": [
       "                 Play  PlayerLinenumber                 Player  \\\n",
       "0  A Comedy of Errors               1.0                ADRIANA   \n",
       "1  A Comedy of Errors               1.0                 AEGEON   \n",
       "2  A Comedy of Errors               1.0                 ANGELO   \n",
       "3  A Comedy of Errors               1.0  ANTIPHOLUS OF EPHESUS   \n",
       "4  A Comedy of Errors               1.0     DROMIO OF SYRACUSE   \n",
       "\n",
       "                                          PlayerLine  quoteLength  \n",
       "0  Neither my husband nor the slave return'd, Tha...           71  \n",
       "1  Proceed, Solinus, to procure my fall And by th...           16  \n",
       "2  I am sorry, sir, that I have hinder'd you, But...           25  \n",
       "3  Good Signior Angelo, you must excuse us all, M...          166  \n",
       "4  The gold I gave to Dromio is laid up Safe at t...          186  "
      ]
     },
     "execution_count": 181,
     "metadata": {},
     "output_type": "execute_result"
    }
   ],
   "source": [
    "dfShake.head()"
   ]
  },
  {
   "cell_type": "markdown",
   "metadata": {},
   "source": [
    "Summary statistics for the quote length variable:"
   ]
  },
  {
   "cell_type": "code",
   "execution_count": 182,
   "metadata": {},
   "outputs": [
    {
     "data": {
      "text/plain": [
       "count    22217.000000\n",
       "mean        35.496737\n",
       "std         53.561607\n",
       "min          1.000000\n",
       "25%          8.000000\n",
       "50%         17.000000\n",
       "75%         41.000000\n",
       "max       1555.000000\n",
       "Name: quoteLength, dtype: float64"
      ]
     },
     "execution_count": 182,
     "metadata": {},
     "output_type": "execute_result"
    }
   ],
   "source": [
    "dfShake['quoteLength'].describe()"
   ]
  },
  {
   "cell_type": "markdown",
   "metadata": {},
   "source": [
    "Check how many times there are 1 word lines:"
   ]
  },
  {
   "cell_type": "code",
   "execution_count": 183,
   "metadata": {},
   "outputs": [
    {
     "name": "stdout",
     "output_type": "stream",
     "text": [
      "Count of 1 word lines = 215\n"
     ]
    }
   ],
   "source": [
    "count=0\n",
    "for i in range(0,len(dfShake['PlayerLine'])):\n",
    "    if(dfShake['quoteLength'][i] == 1):\n",
    "        #print(dfShake.iloc[i])\n",
    "        count=count+1\n",
    "\n",
    "print('Count of 1 word lines =', count) "
   ]
  },
  {
   "cell_type": "markdown",
   "metadata": {},
   "source": [
    "Check how many times there are 1555 word lines:"
   ]
  },
  {
   "cell_type": "code",
   "execution_count": 184,
   "metadata": {},
   "outputs": [
    {
     "name": "stdout",
     "output_type": "stream",
     "text": [
      "Play                                                          Henry V\n",
      "PlayerLinenumber                                                    1\n",
      "Player                                                         Chorus\n",
      "PlayerLine          O for a Muse of fire, that would ascend The br...\n",
      "quoteLength                                                      1555\n",
      "Name: 6172, dtype: object\n",
      "Count of 1555 word lines = 1\n"
     ]
    }
   ],
   "source": [
    "count=0\n",
    "for i in range(0,len(dfShake['PlayerLine'])):\n",
    "    if(dfShake['quoteLength'][i] == 1555):\n",
    "        print(dfShake.iloc[i])\n",
    "        count=count+1\n",
    "\n",
    "print('Count of 1555 word lines =', count) "
   ]
  },
  {
   "cell_type": "markdown",
   "metadata": {},
   "source": [
    "Check how many times there are < and >= an average # word lines (35):"
   ]
  },
  {
   "cell_type": "code",
   "execution_count": 185,
   "metadata": {},
   "outputs": [
    {
     "name": "stdout",
     "output_type": "stream",
     "text": [
      "Count of <avg lines = 15701\n"
     ]
    }
   ],
   "source": [
    "count=0\n",
    "for i in range(0,len(dfShake['PlayerLine'])):\n",
    "    if(dfShake['quoteLength'][i] < 35):\n",
    "        #print(dfShake.iloc[i])\n",
    "        count=count+1\n",
    "\n",
    "print('Count of <avg lines =', count) "
   ]
  },
  {
   "cell_type": "code",
   "execution_count": 186,
   "metadata": {},
   "outputs": [
    {
     "name": "stdout",
     "output_type": "stream",
     "text": [
      "Count of >=avg lines = 6516\n"
     ]
    }
   ],
   "source": [
    "count=0\n",
    "for i in range(0,len(dfShake['PlayerLine'])):\n",
    "    if(dfShake['quoteLength'][i] >= 35):\n",
    "        #print(dfShake.iloc[i])\n",
    "        count=count+1\n",
    "\n",
    "print('Count of >=avg lines =', count) "
   ]
  },
  {
   "cell_type": "code",
   "execution_count": 187,
   "metadata": {},
   "outputs": [
    {
     "data": {
      "text/html": [
       "<div>\n",
       "<style scoped>\n",
       "    .dataframe tbody tr th:only-of-type {\n",
       "        vertical-align: middle;\n",
       "    }\n",
       "\n",
       "    .dataframe tbody tr th {\n",
       "        vertical-align: top;\n",
       "    }\n",
       "\n",
       "    .dataframe thead th {\n",
       "        text-align: right;\n",
       "    }\n",
       "</style>\n",
       "<table border=\"1\" class=\"dataframe\">\n",
       "  <thead>\n",
       "    <tr style=\"text-align: right;\">\n",
       "      <th></th>\n",
       "      <th>Play</th>\n",
       "      <th>PlayerLinenumber</th>\n",
       "      <th>Player</th>\n",
       "      <th>PlayerLine</th>\n",
       "      <th>quoteLength</th>\n",
       "    </tr>\n",
       "  </thead>\n",
       "  <tbody>\n",
       "    <tr>\n",
       "      <th>0</th>\n",
       "      <td>A Comedy of Errors</td>\n",
       "      <td>1.0</td>\n",
       "      <td>ADRIANA</td>\n",
       "      <td>Neither my husband nor the slave return'd, Tha...</td>\n",
       "      <td>71</td>\n",
       "    </tr>\n",
       "    <tr>\n",
       "      <th>1</th>\n",
       "      <td>A Comedy of Errors</td>\n",
       "      <td>1.0</td>\n",
       "      <td>AEGEON</td>\n",
       "      <td>Proceed, Solinus, to procure my fall And by th...</td>\n",
       "      <td>16</td>\n",
       "    </tr>\n",
       "    <tr>\n",
       "      <th>2</th>\n",
       "      <td>A Comedy of Errors</td>\n",
       "      <td>1.0</td>\n",
       "      <td>ANGELO</td>\n",
       "      <td>I am sorry, sir, that I have hinder'd you, But...</td>\n",
       "      <td>25</td>\n",
       "    </tr>\n",
       "    <tr>\n",
       "      <th>3</th>\n",
       "      <td>A Comedy of Errors</td>\n",
       "      <td>1.0</td>\n",
       "      <td>ANTIPHOLUS OF EPHESUS</td>\n",
       "      <td>Good Signior Angelo, you must excuse us all, M...</td>\n",
       "      <td>166</td>\n",
       "    </tr>\n",
       "    <tr>\n",
       "      <th>4</th>\n",
       "      <td>A Comedy of Errors</td>\n",
       "      <td>1.0</td>\n",
       "      <td>DROMIO OF SYRACUSE</td>\n",
       "      <td>The gold I gave to Dromio is laid up Safe at t...</td>\n",
       "      <td>186</td>\n",
       "    </tr>\n",
       "  </tbody>\n",
       "</table>\n",
       "</div>"
      ],
      "text/plain": [
       "                 Play  PlayerLinenumber                 Player  \\\n",
       "0  A Comedy of Errors               1.0                ADRIANA   \n",
       "1  A Comedy of Errors               1.0                 AEGEON   \n",
       "2  A Comedy of Errors               1.0                 ANGELO   \n",
       "3  A Comedy of Errors               1.0  ANTIPHOLUS OF EPHESUS   \n",
       "4  A Comedy of Errors               1.0     DROMIO OF SYRACUSE   \n",
       "\n",
       "                                          PlayerLine  quoteLength  \n",
       "0  Neither my husband nor the slave return'd, Tha...           71  \n",
       "1  Proceed, Solinus, to procure my fall And by th...           16  \n",
       "2  I am sorry, sir, that I have hinder'd you, But...           25  \n",
       "3  Good Signior Angelo, you must excuse us all, M...          166  \n",
       "4  The gold I gave to Dromio is laid up Safe at t...          186  "
      ]
     },
     "execution_count": 187,
     "metadata": {},
     "output_type": "execute_result"
    }
   ],
   "source": [
    "dfShake.head()"
   ]
  },
  {
   "cell_type": "markdown",
   "metadata": {},
   "source": [
    "Create 2 new features: a variable that contains the average sentence length of each quote (playerLine), and a variable that contains the number of sentences of each quote (playerLine)."
   ]
  },
  {
   "cell_type": "code",
   "execution_count": 188,
   "metadata": {
    "pixiedust": {
     "displayParams": {}
    }
   },
   "outputs": [],
   "source": [
    "def Avg(lst): \n",
    "    return sum(lst) / len(lst)\n",
    "\n",
    "AvgSentLen=[] #New feature: avg sentence length\n",
    "NumSentPerLine=[] #New feature: number of sentences per quote\n",
    "sentenceLen=[] #sentence Lengths per quote\n",
    "count=0\n",
    "for i in range(0,len(dfShake['PlayerLine'])):\n",
    "    tempQuote=dfShake['PlayerLine'][i].split()\n",
    "    \n",
    "    for j in range(0,len(tempQuote)):\n",
    "        count=count+1\n",
    "        if(\".\" in tempQuote[j] or \"?\" in tempQuote[j] or \"!\" in tempQuote[j] or \"--\" in tempQuote[j]):\n",
    "            sentenceLen.append(count)\n",
    "            count=0\n",
    "    if(len(sentenceLen)>0):\n",
    "        AvgSentLen.append(Avg(sentenceLen))\n",
    "        NumSentPerLine.append(len(sentenceLen))\n",
    "    else:\n",
    "        AvgSentLen.append(0)\n",
    "        NumSentPerLine.append(0)\n",
    "    sentenceLen.clear()\n",
    "\n",
    "    \n",
    "dfShake['AvgSentLen'] = AvgSentLen\n",
    "dfShake['NumSentPerLine']=NumSentPerLine"
   ]
  },
  {
   "cell_type": "code",
   "execution_count": 189,
   "metadata": {},
   "outputs": [
    {
     "data": {
      "text/html": [
       "<div>\n",
       "<style scoped>\n",
       "    .dataframe tbody tr th:only-of-type {\n",
       "        vertical-align: middle;\n",
       "    }\n",
       "\n",
       "    .dataframe tbody tr th {\n",
       "        vertical-align: top;\n",
       "    }\n",
       "\n",
       "    .dataframe thead th {\n",
       "        text-align: right;\n",
       "    }\n",
       "</style>\n",
       "<table border=\"1\" class=\"dataframe\">\n",
       "  <thead>\n",
       "    <tr style=\"text-align: right;\">\n",
       "      <th></th>\n",
       "      <th>Play</th>\n",
       "      <th>PlayerLinenumber</th>\n",
       "      <th>Player</th>\n",
       "      <th>PlayerLine</th>\n",
       "      <th>quoteLength</th>\n",
       "      <th>AvgSentLen</th>\n",
       "      <th>NumSentPerLine</th>\n",
       "    </tr>\n",
       "  </thead>\n",
       "  <tbody>\n",
       "    <tr>\n",
       "      <th>0</th>\n",
       "      <td>A Comedy of Errors</td>\n",
       "      <td>1.0</td>\n",
       "      <td>ADRIANA</td>\n",
       "      <td>Neither my husband nor the slave return'd, Tha...</td>\n",
       "      <td>71</td>\n",
       "      <td>10.142857</td>\n",
       "      <td>7</td>\n",
       "    </tr>\n",
       "    <tr>\n",
       "      <th>1</th>\n",
       "      <td>A Comedy of Errors</td>\n",
       "      <td>1.0</td>\n",
       "      <td>AEGEON</td>\n",
       "      <td>Proceed, Solinus, to procure my fall And by th...</td>\n",
       "      <td>16</td>\n",
       "      <td>16.000000</td>\n",
       "      <td>1</td>\n",
       "    </tr>\n",
       "    <tr>\n",
       "      <th>2</th>\n",
       "      <td>A Comedy of Errors</td>\n",
       "      <td>1.0</td>\n",
       "      <td>ANGELO</td>\n",
       "      <td>I am sorry, sir, that I have hinder'd you, But...</td>\n",
       "      <td>25</td>\n",
       "      <td>25.000000</td>\n",
       "      <td>1</td>\n",
       "    </tr>\n",
       "    <tr>\n",
       "      <th>3</th>\n",
       "      <td>A Comedy of Errors</td>\n",
       "      <td>1.0</td>\n",
       "      <td>ANTIPHOLUS OF EPHESUS</td>\n",
       "      <td>Good Signior Angelo, you must excuse us all, M...</td>\n",
       "      <td>166</td>\n",
       "      <td>20.750000</td>\n",
       "      <td>8</td>\n",
       "    </tr>\n",
       "    <tr>\n",
       "      <th>4</th>\n",
       "      <td>A Comedy of Errors</td>\n",
       "      <td>1.0</td>\n",
       "      <td>DROMIO OF SYRACUSE</td>\n",
       "      <td>The gold I gave to Dromio is laid up Safe at t...</td>\n",
       "      <td>186</td>\n",
       "      <td>13.285714</td>\n",
       "      <td>14</td>\n",
       "    </tr>\n",
       "  </tbody>\n",
       "</table>\n",
       "</div>"
      ],
      "text/plain": [
       "                 Play  PlayerLinenumber                 Player  \\\n",
       "0  A Comedy of Errors               1.0                ADRIANA   \n",
       "1  A Comedy of Errors               1.0                 AEGEON   \n",
       "2  A Comedy of Errors               1.0                 ANGELO   \n",
       "3  A Comedy of Errors               1.0  ANTIPHOLUS OF EPHESUS   \n",
       "4  A Comedy of Errors               1.0     DROMIO OF SYRACUSE   \n",
       "\n",
       "                                          PlayerLine  quoteLength  AvgSentLen  \\\n",
       "0  Neither my husband nor the slave return'd, Tha...           71   10.142857   \n",
       "1  Proceed, Solinus, to procure my fall And by th...           16   16.000000   \n",
       "2  I am sorry, sir, that I have hinder'd you, But...           25   25.000000   \n",
       "3  Good Signior Angelo, you must excuse us all, M...          166   20.750000   \n",
       "4  The gold I gave to Dromio is laid up Safe at t...          186   13.285714   \n",
       "\n",
       "   NumSentPerLine  \n",
       "0               7  \n",
       "1               1  \n",
       "2               1  \n",
       "3               8  \n",
       "4              14  "
      ]
     },
     "execution_count": 189,
     "metadata": {},
     "output_type": "execute_result"
    }
   ],
   "source": [
    "dfShake.head()"
   ]
  },
  {
   "cell_type": "markdown",
   "metadata": {},
   "source": [
    "Check how many rows contain 0 sentence length. After visual observation of the quotes whose AvgSentLen is 0, the quotes are not empty. However, they end in a value different from ?, !, --, . so there is no good way to adjust the sentence length function without sacrificing the rest of the data. Therefore, since there are only 26 observations for which that happens, I drop them from the data."
   ]
  },
  {
   "cell_type": "code",
   "execution_count": 190,
   "metadata": {},
   "outputs": [
    {
     "name": "stdout",
     "output_type": "stream",
     "text": [
      "Count of 0 sentence length lines = 26\n"
     ]
    }
   ],
   "source": [
    "count=0\n",
    "for i in range(0,len(dfShake['AvgSentLen'])):\n",
    "    if(dfShake['AvgSentLen'][i] < 1):\n",
    "        #print(dfShake.iloc[i])\n",
    "        count=count+1\n",
    "        dfShake.drop([i],inplace=True, axis=0)\n",
    "\n",
    "print('Count of 0 sentence length lines =', count) "
   ]
  },
  {
   "cell_type": "markdown",
   "metadata": {},
   "source": [
    "Create a feature that gives the frequency of the Player's lines (ie if Player has 10 lines in the play, this variable's value will be 10)"
   ]
  },
  {
   "cell_type": "code",
   "execution_count": null,
   "metadata": {},
   "outputs": [],
   "source": []
  },
  {
   "cell_type": "markdown",
   "metadata": {},
   "source": [
    "## Classification"
   ]
  },
  {
   "cell_type": "code",
   "execution_count": 191,
   "metadata": {},
   "outputs": [],
   "source": [
    "feature_cols = ['quoteLength', 'AvgSentLen', 'NumSentPerLine']\n",
    "X = dfShake[feature_cols] # Features\n",
    "y = dfShake.Player # Target variable"
   ]
  },
  {
   "cell_type": "code",
   "execution_count": 192,
   "metadata": {},
   "outputs": [],
   "source": [
    "# Split dataset into training set and test set\n",
    "X_train, X_test, y_train, y_test = train_test_split(X, y, test_size=0.3, random_state=1)"
   ]
  },
  {
   "cell_type": "code",
   "execution_count": 193,
   "metadata": {},
   "outputs": [],
   "source": [
    "# Create Decision Tree classifer object\n",
    "clf = DecisionTreeClassifier()\n",
    "\n",
    "# Train Decision Tree Classifer\n",
    "clf = clf.fit(X_train,y_train)\n",
    "\n",
    "#Predict the response for test dataset\n",
    "y_pred = clf.predict(X_test)"
   ]
  },
  {
   "cell_type": "code",
   "execution_count": 194,
   "metadata": {},
   "outputs": [
    {
     "name": "stdout",
     "output_type": "stream",
     "text": [
      "Accuracy: 0.007810153199158907\n"
     ]
    }
   ],
   "source": [
    "# Model Accuracy, how often is the classifier correct?\n",
    "print(\"Accuracy:\",metrics.accuracy_score(y_test, y_pred))"
   ]
  },
  {
   "cell_type": "code",
   "execution_count": null,
   "metadata": {},
   "outputs": [],
   "source": []
  }
 ],
 "metadata": {
  "kernelspec": {
   "display_name": "Python 3",
   "language": "python",
   "name": "python3"
  },
  "language_info": {
   "codemirror_mode": {
    "name": "ipython",
    "version": 3
   },
   "file_extension": ".py",
   "mimetype": "text/x-python",
   "name": "python",
   "nbconvert_exporter": "python",
   "pygments_lexer": "ipython3",
   "version": "3.8.3"
  }
 },
 "nbformat": 4,
 "nbformat_minor": 4
}
