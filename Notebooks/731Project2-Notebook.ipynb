{
 "cells": [
  {
   "cell_type": "markdown",
   "metadata": {},
   "source": [
    "# To Be or Not To Be"
   ]
  },
  {
   "cell_type": "code",
   "execution_count": 388,
   "metadata": {},
   "outputs": [],
   "source": [
    "import numpy as np"
   ]
  },
  {
   "cell_type": "code",
   "execution_count": 389,
   "metadata": {},
   "outputs": [],
   "source": [
    "import pandas as pd"
   ]
  },
  {
   "cell_type": "code",
   "execution_count": 390,
   "metadata": {},
   "outputs": [],
   "source": [
    "import matplotlib.pyplot as plt"
   ]
  },
  {
   "cell_type": "code",
   "execution_count": 391,
   "metadata": {},
   "outputs": [],
   "source": [
    "dfShake=pd.read_csv(\"file://localhost/Users/anissakhan/Dropbox/Nissa_stuff/KU_CS/EECS731/731-Project-2-Khan/Data/RawData/Shakespeare_data.csv\")"
   ]
  },
  {
   "cell_type": "code",
   "execution_count": 392,
   "metadata": {},
   "outputs": [
    {
     "data": {
      "text/html": [
       "<div>\n",
       "<style scoped>\n",
       "    .dataframe tbody tr th:only-of-type {\n",
       "        vertical-align: middle;\n",
       "    }\n",
       "\n",
       "    .dataframe tbody tr th {\n",
       "        vertical-align: top;\n",
       "    }\n",
       "\n",
       "    .dataframe thead th {\n",
       "        text-align: right;\n",
       "    }\n",
       "</style>\n",
       "<table border=\"1\" class=\"dataframe\">\n",
       "  <thead>\n",
       "    <tr style=\"text-align: right;\">\n",
       "      <th></th>\n",
       "      <th>Dataline</th>\n",
       "      <th>Play</th>\n",
       "      <th>PlayerLinenumber</th>\n",
       "      <th>ActSceneLine</th>\n",
       "      <th>Player</th>\n",
       "      <th>PlayerLine</th>\n",
       "    </tr>\n",
       "  </thead>\n",
       "  <tbody>\n",
       "    <tr>\n",
       "      <th>0</th>\n",
       "      <td>1</td>\n",
       "      <td>Henry IV</td>\n",
       "      <td>NaN</td>\n",
       "      <td>NaN</td>\n",
       "      <td>NaN</td>\n",
       "      <td>ACT I</td>\n",
       "    </tr>\n",
       "    <tr>\n",
       "      <th>1</th>\n",
       "      <td>2</td>\n",
       "      <td>Henry IV</td>\n",
       "      <td>NaN</td>\n",
       "      <td>NaN</td>\n",
       "      <td>NaN</td>\n",
       "      <td>SCENE I. London. The palace.</td>\n",
       "    </tr>\n",
       "    <tr>\n",
       "      <th>2</th>\n",
       "      <td>3</td>\n",
       "      <td>Henry IV</td>\n",
       "      <td>NaN</td>\n",
       "      <td>NaN</td>\n",
       "      <td>NaN</td>\n",
       "      <td>Enter KING HENRY, LORD JOHN OF LANCASTER, the ...</td>\n",
       "    </tr>\n",
       "    <tr>\n",
       "      <th>3</th>\n",
       "      <td>4</td>\n",
       "      <td>Henry IV</td>\n",
       "      <td>1.0</td>\n",
       "      <td>1.1.1</td>\n",
       "      <td>KING HENRY IV</td>\n",
       "      <td>So shaken as we are, so wan with care,</td>\n",
       "    </tr>\n",
       "    <tr>\n",
       "      <th>4</th>\n",
       "      <td>5</td>\n",
       "      <td>Henry IV</td>\n",
       "      <td>1.0</td>\n",
       "      <td>1.1.2</td>\n",
       "      <td>KING HENRY IV</td>\n",
       "      <td>Find we a time for frighted peace to pant,</td>\n",
       "    </tr>\n",
       "  </tbody>\n",
       "</table>\n",
       "</div>"
      ],
      "text/plain": [
       "   Dataline      Play  PlayerLinenumber ActSceneLine         Player  \\\n",
       "0         1  Henry IV               NaN          NaN            NaN   \n",
       "1         2  Henry IV               NaN          NaN            NaN   \n",
       "2         3  Henry IV               NaN          NaN            NaN   \n",
       "3         4  Henry IV               1.0        1.1.1  KING HENRY IV   \n",
       "4         5  Henry IV               1.0        1.1.2  KING HENRY IV   \n",
       "\n",
       "                                          PlayerLine  \n",
       "0                                              ACT I  \n",
       "1                       SCENE I. London. The palace.  \n",
       "2  Enter KING HENRY, LORD JOHN OF LANCASTER, the ...  \n",
       "3             So shaken as we are, so wan with care,  \n",
       "4         Find we a time for frighted peace to pant,  "
      ]
     },
     "execution_count": 392,
     "metadata": {},
     "output_type": "execute_result"
    }
   ],
   "source": [
    "dfShake.head()"
   ]
  },
  {
   "cell_type": "markdown",
   "metadata": {},
   "source": [
    "## Data Cleaning"
   ]
  },
  {
   "cell_type": "markdown",
   "metadata": {},
   "source": [
    "If Player doesn't exist (Player=NaN), delete those observations, because the associated PlayerLine is not spoken by anyone (example: PlayerLine=ACT I).\n",
    "\n",
    "If ActSceneLine doesn't exist (ActSceneLine=NaN), delete those observations, because the associated PlayerLine is a stage direction and therefore not spoken by anyone (example: ActSceneLine=SCENE III. London. The palace.).\n",
    "\n",
    "In the dropna command, inplace=True because we want the dataframe itself to be changed (as opposed to a copy of the dataframe)"
   ]
  },
  {
   "cell_type": "code",
   "execution_count": 393,
   "metadata": {},
   "outputs": [],
   "source": [
    "dfShake.dropna(subset = [\"Player\"], inplace=True)"
   ]
  },
  {
   "cell_type": "code",
   "execution_count": 394,
   "metadata": {},
   "outputs": [],
   "source": [
    "dfShake.dropna(subset = [\"ActSceneLine\"], inplace=True)"
   ]
  },
  {
   "cell_type": "markdown",
   "metadata": {},
   "source": [
    "Verify there are no more missing values in the dataset. Since the number of entries matches the non-null count for all variables, we know there are no more missing values."
   ]
  },
  {
   "cell_type": "code",
   "execution_count": 395,
   "metadata": {},
   "outputs": [
    {
     "name": "stdout",
     "output_type": "stream",
     "text": [
      "<class 'pandas.core.frame.DataFrame'>\n",
      "Int64Index: 105152 entries, 3 to 111394\n",
      "Data columns (total 6 columns):\n",
      " #   Column            Non-Null Count   Dtype  \n",
      "---  ------            --------------   -----  \n",
      " 0   Dataline          105152 non-null  int64  \n",
      " 1   Play              105152 non-null  object \n",
      " 2   PlayerLinenumber  105152 non-null  float64\n",
      " 3   ActSceneLine      105152 non-null  object \n",
      " 4   Player            105152 non-null  object \n",
      " 5   PlayerLine        105152 non-null  object \n",
      "dtypes: float64(1), int64(1), object(4)\n",
      "memory usage: 5.6+ MB\n"
     ]
    }
   ],
   "source": [
    "dfShake.info()"
   ]
  },
  {
   "cell_type": "code",
   "execution_count": 396,
   "metadata": {},
   "outputs": [
    {
     "data": {
      "text/html": [
       "<div>\n",
       "<style scoped>\n",
       "    .dataframe tbody tr th:only-of-type {\n",
       "        vertical-align: middle;\n",
       "    }\n",
       "\n",
       "    .dataframe tbody tr th {\n",
       "        vertical-align: top;\n",
       "    }\n",
       "\n",
       "    .dataframe thead th {\n",
       "        text-align: right;\n",
       "    }\n",
       "</style>\n",
       "<table border=\"1\" class=\"dataframe\">\n",
       "  <thead>\n",
       "    <tr style=\"text-align: right;\">\n",
       "      <th></th>\n",
       "      <th>Dataline</th>\n",
       "      <th>Play</th>\n",
       "      <th>PlayerLinenumber</th>\n",
       "      <th>ActSceneLine</th>\n",
       "      <th>Player</th>\n",
       "      <th>PlayerLine</th>\n",
       "    </tr>\n",
       "  </thead>\n",
       "  <tbody>\n",
       "    <tr>\n",
       "      <th>3</th>\n",
       "      <td>4</td>\n",
       "      <td>Henry IV</td>\n",
       "      <td>1.0</td>\n",
       "      <td>1.1.1</td>\n",
       "      <td>KING HENRY IV</td>\n",
       "      <td>So shaken as we are, so wan with care,</td>\n",
       "    </tr>\n",
       "    <tr>\n",
       "      <th>4</th>\n",
       "      <td>5</td>\n",
       "      <td>Henry IV</td>\n",
       "      <td>1.0</td>\n",
       "      <td>1.1.2</td>\n",
       "      <td>KING HENRY IV</td>\n",
       "      <td>Find we a time for frighted peace to pant,</td>\n",
       "    </tr>\n",
       "    <tr>\n",
       "      <th>5</th>\n",
       "      <td>6</td>\n",
       "      <td>Henry IV</td>\n",
       "      <td>1.0</td>\n",
       "      <td>1.1.3</td>\n",
       "      <td>KING HENRY IV</td>\n",
       "      <td>And breathe short-winded accents of new broils</td>\n",
       "    </tr>\n",
       "    <tr>\n",
       "      <th>6</th>\n",
       "      <td>7</td>\n",
       "      <td>Henry IV</td>\n",
       "      <td>1.0</td>\n",
       "      <td>1.1.4</td>\n",
       "      <td>KING HENRY IV</td>\n",
       "      <td>To be commenced in strands afar remote.</td>\n",
       "    </tr>\n",
       "    <tr>\n",
       "      <th>7</th>\n",
       "      <td>8</td>\n",
       "      <td>Henry IV</td>\n",
       "      <td>1.0</td>\n",
       "      <td>1.1.5</td>\n",
       "      <td>KING HENRY IV</td>\n",
       "      <td>No more the thirsty entrance of this soil</td>\n",
       "    </tr>\n",
       "  </tbody>\n",
       "</table>\n",
       "</div>"
      ],
      "text/plain": [
       "   Dataline      Play  PlayerLinenumber ActSceneLine         Player  \\\n",
       "3         4  Henry IV               1.0        1.1.1  KING HENRY IV   \n",
       "4         5  Henry IV               1.0        1.1.2  KING HENRY IV   \n",
       "5         6  Henry IV               1.0        1.1.3  KING HENRY IV   \n",
       "6         7  Henry IV               1.0        1.1.4  KING HENRY IV   \n",
       "7         8  Henry IV               1.0        1.1.5  KING HENRY IV   \n",
       "\n",
       "                                       PlayerLine  \n",
       "3          So shaken as we are, so wan with care,  \n",
       "4      Find we a time for frighted peace to pant,  \n",
       "5  And breathe short-winded accents of new broils  \n",
       "6         To be commenced in strands afar remote.  \n",
       "7       No more the thirsty entrance of this soil  "
      ]
     },
     "execution_count": 396,
     "metadata": {},
     "output_type": "execute_result"
    }
   ],
   "source": [
    "dfShake.head()"
   ]
  },
  {
   "cell_type": "code",
   "execution_count": 397,
   "metadata": {},
   "outputs": [],
   "source": [
    "dfShake=dfShake.reset_index()"
   ]
  },
  {
   "cell_type": "code",
   "execution_count": 398,
   "metadata": {},
   "outputs": [
    {
     "data": {
      "text/html": [
       "<div>\n",
       "<style scoped>\n",
       "    .dataframe tbody tr th:only-of-type {\n",
       "        vertical-align: middle;\n",
       "    }\n",
       "\n",
       "    .dataframe tbody tr th {\n",
       "        vertical-align: top;\n",
       "    }\n",
       "\n",
       "    .dataframe thead th {\n",
       "        text-align: right;\n",
       "    }\n",
       "</style>\n",
       "<table border=\"1\" class=\"dataframe\">\n",
       "  <thead>\n",
       "    <tr style=\"text-align: right;\">\n",
       "      <th></th>\n",
       "      <th>index</th>\n",
       "      <th>Dataline</th>\n",
       "      <th>Play</th>\n",
       "      <th>PlayerLinenumber</th>\n",
       "      <th>ActSceneLine</th>\n",
       "      <th>Player</th>\n",
       "      <th>PlayerLine</th>\n",
       "    </tr>\n",
       "  </thead>\n",
       "  <tbody>\n",
       "    <tr>\n",
       "      <th>0</th>\n",
       "      <td>3</td>\n",
       "      <td>4</td>\n",
       "      <td>Henry IV</td>\n",
       "      <td>1.0</td>\n",
       "      <td>1.1.1</td>\n",
       "      <td>KING HENRY IV</td>\n",
       "      <td>So shaken as we are, so wan with care,</td>\n",
       "    </tr>\n",
       "    <tr>\n",
       "      <th>1</th>\n",
       "      <td>4</td>\n",
       "      <td>5</td>\n",
       "      <td>Henry IV</td>\n",
       "      <td>1.0</td>\n",
       "      <td>1.1.2</td>\n",
       "      <td>KING HENRY IV</td>\n",
       "      <td>Find we a time for frighted peace to pant,</td>\n",
       "    </tr>\n",
       "    <tr>\n",
       "      <th>2</th>\n",
       "      <td>5</td>\n",
       "      <td>6</td>\n",
       "      <td>Henry IV</td>\n",
       "      <td>1.0</td>\n",
       "      <td>1.1.3</td>\n",
       "      <td>KING HENRY IV</td>\n",
       "      <td>And breathe short-winded accents of new broils</td>\n",
       "    </tr>\n",
       "    <tr>\n",
       "      <th>3</th>\n",
       "      <td>6</td>\n",
       "      <td>7</td>\n",
       "      <td>Henry IV</td>\n",
       "      <td>1.0</td>\n",
       "      <td>1.1.4</td>\n",
       "      <td>KING HENRY IV</td>\n",
       "      <td>To be commenced in strands afar remote.</td>\n",
       "    </tr>\n",
       "    <tr>\n",
       "      <th>4</th>\n",
       "      <td>7</td>\n",
       "      <td>8</td>\n",
       "      <td>Henry IV</td>\n",
       "      <td>1.0</td>\n",
       "      <td>1.1.5</td>\n",
       "      <td>KING HENRY IV</td>\n",
       "      <td>No more the thirsty entrance of this soil</td>\n",
       "    </tr>\n",
       "    <tr>\n",
       "      <th>...</th>\n",
       "      <td>...</td>\n",
       "      <td>...</td>\n",
       "      <td>...</td>\n",
       "      <td>...</td>\n",
       "      <td>...</td>\n",
       "      <td>...</td>\n",
       "      <td>...</td>\n",
       "    </tr>\n",
       "    <tr>\n",
       "      <th>105147</th>\n",
       "      <td>111390</td>\n",
       "      <td>111391</td>\n",
       "      <td>A Winters Tale</td>\n",
       "      <td>38.0</td>\n",
       "      <td>5.3.179</td>\n",
       "      <td>LEONTES</td>\n",
       "      <td>Is troth-plight to your daughter. Good Paulina,</td>\n",
       "    </tr>\n",
       "    <tr>\n",
       "      <th>105148</th>\n",
       "      <td>111391</td>\n",
       "      <td>111392</td>\n",
       "      <td>A Winters Tale</td>\n",
       "      <td>38.0</td>\n",
       "      <td>5.3.180</td>\n",
       "      <td>LEONTES</td>\n",
       "      <td>Lead us from hence, where we may leisurely</td>\n",
       "    </tr>\n",
       "    <tr>\n",
       "      <th>105149</th>\n",
       "      <td>111392</td>\n",
       "      <td>111393</td>\n",
       "      <td>A Winters Tale</td>\n",
       "      <td>38.0</td>\n",
       "      <td>5.3.181</td>\n",
       "      <td>LEONTES</td>\n",
       "      <td>Each one demand an answer to his part</td>\n",
       "    </tr>\n",
       "    <tr>\n",
       "      <th>105150</th>\n",
       "      <td>111393</td>\n",
       "      <td>111394</td>\n",
       "      <td>A Winters Tale</td>\n",
       "      <td>38.0</td>\n",
       "      <td>5.3.182</td>\n",
       "      <td>LEONTES</td>\n",
       "      <td>Perform'd in this wide gap of time since first</td>\n",
       "    </tr>\n",
       "    <tr>\n",
       "      <th>105151</th>\n",
       "      <td>111394</td>\n",
       "      <td>111395</td>\n",
       "      <td>A Winters Tale</td>\n",
       "      <td>38.0</td>\n",
       "      <td>5.3.183</td>\n",
       "      <td>LEONTES</td>\n",
       "      <td>We were dissever'd: hastily lead away.</td>\n",
       "    </tr>\n",
       "  </tbody>\n",
       "</table>\n",
       "<p>105152 rows × 7 columns</p>\n",
       "</div>"
      ],
      "text/plain": [
       "         index  Dataline            Play  PlayerLinenumber ActSceneLine  \\\n",
       "0            3         4        Henry IV               1.0        1.1.1   \n",
       "1            4         5        Henry IV               1.0        1.1.2   \n",
       "2            5         6        Henry IV               1.0        1.1.3   \n",
       "3            6         7        Henry IV               1.0        1.1.4   \n",
       "4            7         8        Henry IV               1.0        1.1.5   \n",
       "...        ...       ...             ...               ...          ...   \n",
       "105147  111390    111391  A Winters Tale              38.0      5.3.179   \n",
       "105148  111391    111392  A Winters Tale              38.0      5.3.180   \n",
       "105149  111392    111393  A Winters Tale              38.0      5.3.181   \n",
       "105150  111393    111394  A Winters Tale              38.0      5.3.182   \n",
       "105151  111394    111395  A Winters Tale              38.0      5.3.183   \n",
       "\n",
       "               Player                                       PlayerLine  \n",
       "0       KING HENRY IV           So shaken as we are, so wan with care,  \n",
       "1       KING HENRY IV       Find we a time for frighted peace to pant,  \n",
       "2       KING HENRY IV   And breathe short-winded accents of new broils  \n",
       "3       KING HENRY IV          To be commenced in strands afar remote.  \n",
       "4       KING HENRY IV        No more the thirsty entrance of this soil  \n",
       "...               ...                                              ...  \n",
       "105147        LEONTES  Is troth-plight to your daughter. Good Paulina,  \n",
       "105148        LEONTES       Lead us from hence, where we may leisurely  \n",
       "105149        LEONTES            Each one demand an answer to his part  \n",
       "105150        LEONTES   Perform'd in this wide gap of time since first  \n",
       "105151        LEONTES           We were dissever'd: hastily lead away.  \n",
       "\n",
       "[105152 rows x 7 columns]"
      ]
     },
     "execution_count": 398,
     "metadata": {},
     "output_type": "execute_result"
    }
   ],
   "source": [
    "dfShake"
   ]
  },
  {
   "cell_type": "markdown",
   "metadata": {},
   "source": [
    "Convert Player and PlayerLine to string"
   ]
  },
  {
   "cell_type": "code",
   "execution_count": 399,
   "metadata": {},
   "outputs": [
    {
     "data": {
      "text/plain": [
       "index                 int64\n",
       "Dataline              int64\n",
       "Play                 object\n",
       "PlayerLinenumber    float64\n",
       "ActSceneLine         object\n",
       "Player               object\n",
       "PlayerLine           object\n",
       "dtype: object"
      ]
     },
     "execution_count": 399,
     "metadata": {},
     "output_type": "execute_result"
    }
   ],
   "source": [
    "dfShake.dtypes"
   ]
  },
  {
   "cell_type": "code",
   "execution_count": 400,
   "metadata": {},
   "outputs": [],
   "source": [
    "dfShake['Player'] = dfShake['Player'].astype(\"string\")\n",
    "dfShake['PlayerLine'] = dfShake['PlayerLine'].astype(\"string\")"
   ]
  },
  {
   "cell_type": "code",
   "execution_count": 401,
   "metadata": {},
   "outputs": [
    {
     "data": {
      "text/plain": [
       "index                 int64\n",
       "Dataline              int64\n",
       "Play                 object\n",
       "PlayerLinenumber    float64\n",
       "ActSceneLine         object\n",
       "Player               string\n",
       "PlayerLine           string\n",
       "dtype: object"
      ]
     },
     "execution_count": 401,
     "metadata": {},
     "output_type": "execute_result"
    }
   ],
   "source": [
    "dfShake.dtypes"
   ]
  },
  {
   "cell_type": "markdown",
   "metadata": {},
   "source": [
    "There is a problem with the data: The player name \"ANTIPHOLUS OF EPHESUS\" has been inadvertently split. \"ANTIPHOLUS\" is split off from the rest of the name and placed incorrectly in PlayerLine"
   ]
  },
  {
   "cell_type": "code",
   "execution_count": 402,
   "metadata": {},
   "outputs": [],
   "source": [
    "dfShake.PlayerLine = dfShake.PlayerLine.str.strip()"
   ]
  },
  {
   "cell_type": "code",
   "execution_count": 403,
   "metadata": {},
   "outputs": [
    {
     "name": "stdout",
     "output_type": "stream",
     "text": [
      "ANTIPHOLUS 22600\n",
      "ANTIPHOLUS 22612\n",
      "ANTIPHOLUS 22624\n",
      "ANTIPHOLUS 22629\n",
      "ANTIPHOLUS 22651\n",
      "ANTIPHOLUS 22657\n",
      "ANTIPHOLUS 22668\n",
      "ANTIPHOLUS 22673\n",
      "ANTIPHOLUS 22679\n",
      "ANTIPHOLUS 22689\n",
      "ANTIPHOLUS 22694\n",
      "ANTIPHOLUS 22700\n",
      "ANTIPHOLUS 22837\n",
      "ANTIPHOLUS 22852\n",
      "ANTIPHOLUS 22856\n",
      "ANTIPHOLUS 22862\n",
      "ANTIPHOLUS 22868\n",
      "ANTIPHOLUS 22883\n",
      "ANTIPHOLUS 22886\n",
      "ANTIPHOLUS 22890\n",
      "ANTIPHOLUS 22897\n",
      "ANTIPHOLUS 22900\n",
      "ANTIPHOLUS 22904\n",
      "ANTIPHOLUS 22907\n",
      "ANTIPHOLUS 22910\n",
      "ANTIPHOLUS 22914\n",
      "ANTIPHOLUS 22918\n",
      "ANTIPHOLUS 22922\n",
      "ANTIPHOLUS 22926\n",
      "ANTIPHOLUS 22930\n",
      "ANTIPHOLUS 22935\n",
      "ANTIPHOLUS 22938\n",
      "ANTIPHOLUS 22942\n",
      "ANTIPHOLUS 22945\n",
      "ANTIPHOLUS 22948\n",
      "ANTIPHOLUS 22951\n",
      "ANTIPHOLUS 22956\n",
      "ANTIPHOLUS 22961\n",
      "ANTIPHOLUS 22966\n",
      "ANTIPHOLUS 23007\n",
      "ANTIPHOLUS 23016\n",
      "ANTIPHOLUS 23022\n",
      "ANTIPHOLUS 23026\n",
      "ANTIPHOLUS 23030\n",
      "ANTIPHOLUS 23046\n",
      "ANTIPHOLUS 23062\n",
      "ANTIPHOLUS 23065\n",
      "ANTIPHOLUS 23081\n",
      "ANTIPHOLUS 23094\n",
      "ANTIPHOLUS 23109\n",
      "ANTIPHOLUS 23115\n",
      "ANTIPHOLUS 23120\n",
      "ANTIPHOLUS 23124\n",
      "ANTIPHOLUS 23127\n",
      "ANTIPHOLUS 23143\n",
      "ANTIPHOLUS 23147\n",
      "ANTIPHOLUS 23151\n",
      "ANTIPHOLUS 23176\n",
      "ANTIPHOLUS 23181\n",
      "ANTIPHOLUS 23188\n",
      "ANTIPHOLUS 23196\n",
      "ANTIPHOLUS 23201\n",
      "ANTIPHOLUS 23212\n",
      "ANTIPHOLUS 23217\n",
      "ANTIPHOLUS 23241\n",
      "ANTIPHOLUS 23260\n",
      "ANTIPHOLUS 23293\n",
      "ANTIPHOLUS 23319\n",
      "ANTIPHOLUS 23322\n",
      "ANTIPHOLUS 23325\n",
      "ANTIPHOLUS 23328\n",
      "ANTIPHOLUS 23331\n",
      "ANTIPHOLUS 23338\n",
      "ANTIPHOLUS 23347\n",
      "ANTIPHOLUS 23351\n",
      "ANTIPHOLUS 23357\n",
      "ANTIPHOLUS 23363\n",
      "ANTIPHOLUS 23369\n",
      "ANTIPHOLUS 23377\n",
      "ANTIPHOLUS 23382\n",
      "ANTIPHOLUS 23385\n",
      "ANTIPHOLUS 23390\n",
      "ANTIPHOLUS 23395\n",
      "ANTIPHOLUS 23398\n",
      "ANTIPHOLUS 23401\n",
      "ANTIPHOLUS 23405\n",
      "ANTIPHOLUS 23410\n",
      "ANTIPHOLUS 23413\n",
      "ANTIPHOLUS 23419\n",
      "ANTIPHOLUS 23431\n",
      "ANTIPHOLUS 23442\n",
      "ANTIPHOLUS 23454\n",
      "ANTIPHOLUS 23459\n",
      "ANTIPHOLUS 23462\n",
      "ANTIPHOLUS 23468\n",
      "ANTIPHOLUS 23473\n",
      "ANTIPHOLUS 23500\n",
      "ANTIPHOLUS 23509\n",
      "ANTIPHOLUS 23522\n",
      "ANTIPHOLUS 23530\n",
      "ANTIPHOLUS 23533\n",
      "ANTIPHOLUS 23539\n",
      "ANTIPHOLUS 23546\n",
      "ANTIPHOLUS 23550\n",
      "ANTIPHOLUS 23556\n",
      "ANTIPHOLUS 23559\n",
      "ANTIPHOLUS 23562\n",
      "ANTIPHOLUS 23571\n",
      "ANTIPHOLUS 23578\n",
      "ANTIPHOLUS 23593\n",
      "ANTIPHOLUS 23597\n",
      "ANTIPHOLUS 23602\n",
      "ANTIPHOLUS 23701\n",
      "ANTIPHOLUS 23716\n",
      "ANTIPHOLUS 23723\n",
      "ANTIPHOLUS 23732\n",
      "ANTIPHOLUS 23738\n",
      "ANTIPHOLUS 23745\n",
      "ANTIPHOLUS 23753\n",
      "ANTIPHOLUS 23756\n",
      "ANTIPHOLUS 23769\n",
      "ANTIPHOLUS 23773\n",
      "ANTIPHOLUS 23788\n",
      "ANTIPHOLUS 23811\n",
      "ANTIPHOLUS 23823\n",
      "ANTIPHOLUS 23826\n",
      "ANTIPHOLUS 23829\n",
      "ANTIPHOLUS 23832\n",
      "ANTIPHOLUS 23839\n",
      "ANTIPHOLUS 23856\n",
      "ANTIPHOLUS 23862\n",
      "ANTIPHOLUS 23873\n",
      "ANTIPHOLUS 23880\n",
      "ANTIPHOLUS 23883\n",
      "ANTIPHOLUS 23892\n",
      "ANTIPHOLUS 23895\n",
      "ANTIPHOLUS 23898\n",
      "ANTIPHOLUS 23901\n",
      "ANTIPHOLUS 23904\n",
      "ANTIPHOLUS 23911\n",
      "ANTIPHOLUS 23917\n",
      "ANTIPHOLUS 23926\n",
      "ANTIPHOLUS 23933\n",
      "ANTIPHOLUS 23943\n",
      "ANTIPHOLUS 23961\n",
      "ANTIPHOLUS 23964\n",
      "ANTIPHOLUS 23991\n",
      "ANTIPHOLUS 23994\n",
      "ANTIPHOLUS 24003\n",
      "ANTIPHOLUS 24033\n",
      "ANTIPHOLUS 24036\n",
      "ANTIPHOLUS 24041\n",
      "ANTIPHOLUS 24214\n",
      "ANTIPHOLUS 24222\n",
      "ANTIPHOLUS 24230\n",
      "ANTIPHOLUS 24241\n",
      "ANTIPHOLUS 24294\n",
      "ANTIPHOLUS 24307\n",
      "ANTIPHOLUS 24333\n",
      "ANTIPHOLUS 24352\n",
      "ANTIPHOLUS 24357\n",
      "ANTIPHOLUS 24374\n",
      "ANTIPHOLUS 24401\n",
      "ANTIPHOLUS 24404\n",
      "ANTIPHOLUS 24407\n",
      "ANTIPHOLUS 24411\n",
      "ANTIPHOLUS 24414\n",
      "ANTIPHOLUS 24416\n",
      "ANTIPHOLUS 24425\n",
      "ANTIPHOLUS 24427\n",
      "ANTIPHOLUS 24433\n",
      "ANTIPHOLUS 24439\n",
      "ANTIPHOLUS 24443\n",
      "ANTIPHOLUS 24462\n",
      "ANTIPHOLUS 24465\n"
     ]
    }
   ],
   "source": [
    "for i in range(0,(len(dfShake['PlayerLine']))):\n",
    "    if(dfShake['PlayerLine'][i] == 'ANTIPHOLUS'):\n",
    "        print(dfShake['PlayerLine'][i], dfShake['Dataline'][i])"
   ]
  },
  {
   "cell_type": "code",
   "execution_count": 404,
   "metadata": {},
   "outputs": [],
   "source": [
    "for i in range(0,(len(dfShake['PlayerLine']))):\n",
    "    if(dfShake['PlayerLine'][i] == 'ANTIPHOLUS'):\n",
    "        dfShake.drop([i],inplace=True, axis=0)"
   ]
  },
  {
   "cell_type": "code",
   "execution_count": 405,
   "metadata": {},
   "outputs": [],
   "source": [
    "dfShake=dfShake.reset_index()"
   ]
  },
  {
   "cell_type": "code",
   "execution_count": 406,
   "metadata": {},
   "outputs": [],
   "source": [
    "for i in range(0,len(dfShake['Player'])):\n",
    "    if(dfShake['Player'][i] == 'OF EPHESUS'):\n",
    "        dfShake['Player'][i]='ANTIPHOLUS OF EPHESUS'"
   ]
  },
  {
   "cell_type": "markdown",
   "metadata": {},
   "source": [
    "There is also a problem with the player \"DROMIO OF SYRACUSE\". His whole name isn't stored in Player consistently"
   ]
  },
  {
   "cell_type": "code",
   "execution_count": 412,
   "metadata": {},
   "outputs": [],
   "source": [
    "for i in range(0,(len(dfShake['Player']))):\n",
    "    if(dfShake['Player'][i] == 'OF SYRACUSE'):\n",
    "        print(dfShake['Player'][i], dfShake['Dataline'][i])"
   ]
  },
  {
   "cell_type": "code",
   "execution_count": 411,
   "metadata": {},
   "outputs": [],
   "source": [
    "for i in range(0,len(dfShake['Player'])):\n",
    "    if(dfShake['Player'][i] == 'OF SYRACUSE'):\n",
    "        dfShake['Player'][i]='DROMIO OF SYRACUSE'"
   ]
  },
  {
   "cell_type": "code",
   "execution_count": 386,
   "metadata": {},
   "outputs": [],
   "source": [
    "#dfShake.to_csv('test.csv')"
   ]
  },
  {
   "cell_type": "markdown",
   "metadata": {},
   "source": [
    "Combine player lines so that the entire line is contained in a single observation"
   ]
  },
  {
   "cell_type": "code",
   "execution_count": 216,
   "metadata": {},
   "outputs": [],
   "source": [
    "dfShake=dfShake.groupby(['Play','PlayerLinenumber', 'Player'], as_index = False).agg({'PlayerLine': ' '.join})"
   ]
  },
  {
   "cell_type": "code",
   "execution_count": 229,
   "metadata": {},
   "outputs": [
    {
     "data": {
      "text/html": [
       "<div>\n",
       "<style scoped>\n",
       "    .dataframe tbody tr th:only-of-type {\n",
       "        vertical-align: middle;\n",
       "    }\n",
       "\n",
       "    .dataframe tbody tr th {\n",
       "        vertical-align: top;\n",
       "    }\n",
       "\n",
       "    .dataframe thead th {\n",
       "        text-align: right;\n",
       "    }\n",
       "</style>\n",
       "<table border=\"1\" class=\"dataframe\">\n",
       "  <thead>\n",
       "    <tr style=\"text-align: right;\">\n",
       "      <th></th>\n",
       "      <th>Play</th>\n",
       "      <th>PlayerLinenumber</th>\n",
       "      <th>Player</th>\n",
       "      <th>PlayerLine</th>\n",
       "    </tr>\n",
       "  </thead>\n",
       "  <tbody>\n",
       "    <tr>\n",
       "      <th>0</th>\n",
       "      <td>A Comedy of Errors</td>\n",
       "      <td>1.0</td>\n",
       "      <td>ADRIANA</td>\n",
       "      <td>Neither my husband nor the slave return'd, Tha...</td>\n",
       "    </tr>\n",
       "    <tr>\n",
       "      <th>1</th>\n",
       "      <td>A Comedy of Errors</td>\n",
       "      <td>1.0</td>\n",
       "      <td>AEGEON</td>\n",
       "      <td>Proceed, Solinus, to procure my fall And by th...</td>\n",
       "    </tr>\n",
       "    <tr>\n",
       "      <th>2</th>\n",
       "      <td>A Comedy of Errors</td>\n",
       "      <td>1.0</td>\n",
       "      <td>ANGELO</td>\n",
       "      <td>I am sorry, sir, that I have hinder'd you, But...</td>\n",
       "    </tr>\n",
       "    <tr>\n",
       "      <th>3</th>\n",
       "      <td>A Comedy of Errors</td>\n",
       "      <td>1.0</td>\n",
       "      <td>First Merchant</td>\n",
       "      <td>Therefore give out you are of Epidamnum, Lest ...</td>\n",
       "    </tr>\n",
       "    <tr>\n",
       "      <th>4</th>\n",
       "      <td>A Comedy of Errors</td>\n",
       "      <td>1.0</td>\n",
       "      <td>LUCIANA</td>\n",
       "      <td>And may it be that you have quite forgot A hus...</td>\n",
       "    </tr>\n",
       "    <tr>\n",
       "      <th>...</th>\n",
       "      <td>...</td>\n",
       "      <td>...</td>\n",
       "      <td>...</td>\n",
       "      <td>...</td>\n",
       "    </tr>\n",
       "    <tr>\n",
       "      <th>22261</th>\n",
       "      <td>macbeth</td>\n",
       "      <td>61.0</td>\n",
       "      <td>MALCOLM</td>\n",
       "      <td>Dispute it like a man.</td>\n",
       "    </tr>\n",
       "    <tr>\n",
       "      <th>22262</th>\n",
       "      <td>macbeth</td>\n",
       "      <td>62.0</td>\n",
       "      <td>MACDUFF</td>\n",
       "      <td>I shall do so, But I must also feel it as a ma...</td>\n",
       "    </tr>\n",
       "    <tr>\n",
       "      <th>22263</th>\n",
       "      <td>macbeth</td>\n",
       "      <td>63.0</td>\n",
       "      <td>MALCOLM</td>\n",
       "      <td>Be this the whetstone of your sword: let grief...</td>\n",
       "    </tr>\n",
       "    <tr>\n",
       "      <th>22264</th>\n",
       "      <td>macbeth</td>\n",
       "      <td>64.0</td>\n",
       "      <td>MACDUFF</td>\n",
       "      <td>O, I could play the woman with mine eyes And b...</td>\n",
       "    </tr>\n",
       "    <tr>\n",
       "      <th>22265</th>\n",
       "      <td>macbeth</td>\n",
       "      <td>65.0</td>\n",
       "      <td>MALCOLM</td>\n",
       "      <td>This tune goes manly. Come, go we to the king,...</td>\n",
       "    </tr>\n",
       "  </tbody>\n",
       "</table>\n",
       "<p>22266 rows × 4 columns</p>\n",
       "</div>"
      ],
      "text/plain": [
       "                     Play  PlayerLinenumber          Player  \\\n",
       "0      A Comedy of Errors               1.0         ADRIANA   \n",
       "1      A Comedy of Errors               1.0          AEGEON   \n",
       "2      A Comedy of Errors               1.0          ANGELO   \n",
       "3      A Comedy of Errors               1.0  First Merchant   \n",
       "4      A Comedy of Errors               1.0         LUCIANA   \n",
       "...                   ...               ...             ...   \n",
       "22261             macbeth              61.0         MALCOLM   \n",
       "22262             macbeth              62.0         MACDUFF   \n",
       "22263             macbeth              63.0         MALCOLM   \n",
       "22264             macbeth              64.0         MACDUFF   \n",
       "22265             macbeth              65.0         MALCOLM   \n",
       "\n",
       "                                              PlayerLine  \n",
       "0      Neither my husband nor the slave return'd, Tha...  \n",
       "1      Proceed, Solinus, to procure my fall And by th...  \n",
       "2      I am sorry, sir, that I have hinder'd you, But...  \n",
       "3      Therefore give out you are of Epidamnum, Lest ...  \n",
       "4      And may it be that you have quite forgot A hus...  \n",
       "...                                                  ...  \n",
       "22261                             Dispute it like a man.  \n",
       "22262  I shall do so, But I must also feel it as a ma...  \n",
       "22263  Be this the whetstone of your sword: let grief...  \n",
       "22264  O, I could play the woman with mine eyes And b...  \n",
       "22265  This tune goes manly. Come, go we to the king,...  \n",
       "\n",
       "[22266 rows x 4 columns]"
      ]
     },
     "execution_count": 229,
     "metadata": {},
     "output_type": "execute_result"
    }
   ],
   "source": [
    "dfShake"
   ]
  },
  {
   "cell_type": "markdown",
   "metadata": {},
   "source": [
    "## Feature Engineering"
   ]
  },
  {
   "cell_type": "markdown",
   "metadata": {},
   "source": [
    "Create new variable that contains the number of words in each player line"
   ]
  },
  {
   "cell_type": "code",
   "execution_count": 189,
   "metadata": {},
   "outputs": [],
   "source": [
    "numWordsInLine = []\n",
    "for x in range(0,len(dfShake['PlayerLine'])):\n",
    "    numWordsInLine.append(len(dfShake['PlayerLine'][x].split()))\n",
    "    #dfShake.assign(numWordsInLine=len(dfShake['PlayerLine'][x].split()))\n",
    "dfShake['numWordsInLine'] = numWordsInLine"
   ]
  },
  {
   "cell_type": "code",
   "execution_count": 190,
   "metadata": {},
   "outputs": [
    {
     "data": {
      "text/html": [
       "<div>\n",
       "<style scoped>\n",
       "    .dataframe tbody tr th:only-of-type {\n",
       "        vertical-align: middle;\n",
       "    }\n",
       "\n",
       "    .dataframe tbody tr th {\n",
       "        vertical-align: top;\n",
       "    }\n",
       "\n",
       "    .dataframe thead th {\n",
       "        text-align: right;\n",
       "    }\n",
       "</style>\n",
       "<table border=\"1\" class=\"dataframe\">\n",
       "  <thead>\n",
       "    <tr style=\"text-align: right;\">\n",
       "      <th></th>\n",
       "      <th>Play</th>\n",
       "      <th>PlayerLinenumber</th>\n",
       "      <th>Player</th>\n",
       "      <th>PlayerLine</th>\n",
       "      <th>numWordsInLine</th>\n",
       "    </tr>\n",
       "  </thead>\n",
       "  <tbody>\n",
       "    <tr>\n",
       "      <th>0</th>\n",
       "      <td>A Comedy of Errors</td>\n",
       "      <td>1.0</td>\n",
       "      <td>ADRIANA</td>\n",
       "      <td>Neither my husband nor the slave return'd, Tha...</td>\n",
       "      <td>71</td>\n",
       "    </tr>\n",
       "    <tr>\n",
       "      <th>1</th>\n",
       "      <td>A Comedy of Errors</td>\n",
       "      <td>1.0</td>\n",
       "      <td>AEGEON</td>\n",
       "      <td>Proceed, Solinus, to procure my fall And by th...</td>\n",
       "      <td>16</td>\n",
       "    </tr>\n",
       "    <tr>\n",
       "      <th>2</th>\n",
       "      <td>A Comedy of Errors</td>\n",
       "      <td>1.0</td>\n",
       "      <td>ANGELO</td>\n",
       "      <td>I am sorry, sir, that I have hinder'd you, But...</td>\n",
       "      <td>25</td>\n",
       "    </tr>\n",
       "    <tr>\n",
       "      <th>3</th>\n",
       "      <td>A Comedy of Errors</td>\n",
       "      <td>1.0</td>\n",
       "      <td>First Merchant</td>\n",
       "      <td>Therefore give out you are of Epidamnum, Lest ...</td>\n",
       "      <td>61</td>\n",
       "    </tr>\n",
       "    <tr>\n",
       "      <th>4</th>\n",
       "      <td>A Comedy of Errors</td>\n",
       "      <td>1.0</td>\n",
       "      <td>LUCIANA</td>\n",
       "      <td>And may it be that you have quite forgot A hus...</td>\n",
       "      <td>227</td>\n",
       "    </tr>\n",
       "  </tbody>\n",
       "</table>\n",
       "</div>"
      ],
      "text/plain": [
       "                 Play  PlayerLinenumber          Player  \\\n",
       "0  A Comedy of Errors               1.0         ADRIANA   \n",
       "1  A Comedy of Errors               1.0          AEGEON   \n",
       "2  A Comedy of Errors               1.0          ANGELO   \n",
       "3  A Comedy of Errors               1.0  First Merchant   \n",
       "4  A Comedy of Errors               1.0         LUCIANA   \n",
       "\n",
       "                                          PlayerLine  numWordsInLine  \n",
       "0  Neither my husband nor the slave return'd, Tha...              71  \n",
       "1  Proceed, Solinus, to procure my fall And by th...              16  \n",
       "2  I am sorry, sir, that I have hinder'd you, But...              25  \n",
       "3  Therefore give out you are of Epidamnum, Lest ...              61  \n",
       "4  And may it be that you have quite forgot A hus...             227  "
      ]
     },
     "execution_count": 190,
     "metadata": {},
     "output_type": "execute_result"
    }
   ],
   "source": [
    "dfShake.head()"
   ]
  },
  {
   "cell_type": "markdown",
   "metadata": {},
   "source": [
    "Summary statistics for the number of words per player line variable:"
   ]
  },
  {
   "cell_type": "code",
   "execution_count": 153,
   "metadata": {},
   "outputs": [
    {
     "data": {
      "text/plain": [
       "count    22266.000000\n",
       "mean        35.426480\n",
       "std         53.489294\n",
       "min          1.000000\n",
       "25%          8.000000\n",
       "50%         17.000000\n",
       "75%         41.000000\n",
       "max       1555.000000\n",
       "Name: numWordsInLine, dtype: float64"
      ]
     },
     "execution_count": 153,
     "metadata": {},
     "output_type": "execute_result"
    }
   ],
   "source": [
    "dfShake['numWordsInLine'].describe()"
   ]
  },
  {
   "cell_type": "markdown",
   "metadata": {},
   "source": [
    "Check how many times there are 1 word lines:"
   ]
  },
  {
   "cell_type": "code",
   "execution_count": 191,
   "metadata": {},
   "outputs": [
    {
     "name": "stdout",
     "output_type": "stream",
     "text": [
      "Count of 1 word lines = 215\n"
     ]
    }
   ],
   "source": [
    "count=0\n",
    "for i in range(0,len(dfShake['PlayerLine'])):\n",
    "    if(dfShake['numWordsInLine'][i] == 1):\n",
    "        #print(dfShake.iloc[i])\n",
    "        count=count+1\n",
    "\n",
    "print('Count of 1 word lines =', count) "
   ]
  },
  {
   "cell_type": "markdown",
   "metadata": {},
   "source": [
    "Check how many times there are 1555 word lines:"
   ]
  },
  {
   "cell_type": "code",
   "execution_count": 193,
   "metadata": {},
   "outputs": [
    {
     "name": "stdout",
     "output_type": "stream",
     "text": [
      "Play                                                          Henry V\n",
      "PlayerLinenumber                                                    1\n",
      "Player                                                         Chorus\n",
      "PlayerLine          O for a Muse of fire, that would ascend The br...\n",
      "numWordsInLine                                                   1555\n",
      "Name: 6221, dtype: object\n",
      "Count of 1 word lines = 1\n"
     ]
    }
   ],
   "source": [
    "count=0\n",
    "for i in range(0,len(dfShake['PlayerLine'])):\n",
    "    if(dfShake['numWordsInLine'][i] == 1555):\n",
    "        print(dfShake.iloc[i])\n",
    "        count=count+1\n",
    "\n",
    "print('Count of 1555 word lines =', count) "
   ]
  },
  {
   "cell_type": "markdown",
   "metadata": {},
   "source": [
    "Check how many times there are < and >= an average # word lines (35):"
   ]
  },
  {
   "cell_type": "code",
   "execution_count": 194,
   "metadata": {},
   "outputs": [
    {
     "name": "stdout",
     "output_type": "stream",
     "text": [
      "Count of <avg lines = 15750\n"
     ]
    }
   ],
   "source": [
    "count=0\n",
    "for i in range(0,len(dfShake['PlayerLine'])):\n",
    "    if(dfShake['numWordsInLine'][i] < 35):\n",
    "        #print(dfShake.iloc[i])\n",
    "        count=count+1\n",
    "\n",
    "print('Count of <avg lines =', count) "
   ]
  },
  {
   "cell_type": "code",
   "execution_count": 195,
   "metadata": {},
   "outputs": [
    {
     "name": "stdout",
     "output_type": "stream",
     "text": [
      "Count of >=avg lines = 6516\n"
     ]
    }
   ],
   "source": [
    "count=0\n",
    "for i in range(0,len(dfShake['PlayerLine'])):\n",
    "    if(dfShake['numWordsInLine'][i] >= 35):\n",
    "        #print(dfShake.iloc[i])\n",
    "        count=count+1\n",
    "\n",
    "print('Count of >=avg lines =', count) "
   ]
  },
  {
   "cell_type": "code",
   "execution_count": null,
   "metadata": {},
   "outputs": [],
   "source": []
  }
 ],
 "metadata": {
  "kernelspec": {
   "display_name": "Python 3",
   "language": "python",
   "name": "python3"
  },
  "language_info": {
   "codemirror_mode": {
    "name": "ipython",
    "version": 3
   },
   "file_extension": ".py",
   "mimetype": "text/x-python",
   "name": "python",
   "nbconvert_exporter": "python",
   "pygments_lexer": "ipython3",
   "version": "3.8.3"
  }
 },
 "nbformat": 4,
 "nbformat_minor": 4
}
